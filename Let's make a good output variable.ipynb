{
 "cells": [
  {
   "cell_type": "code",
   "execution_count": 1,
   "id": "7963e924",
   "metadata": {},
   "outputs": [],
   "source": [
    "import pandas as pd\n",
    "import matplotlib.pyplot as plt\n",
    "import numpy as np\n",
    "\n",
    "import matplotlib.pyplot as plt\n",
    "import seaborn as sns"
   ]
  },
  {
   "cell_type": "code",
   "execution_count": 2,
   "id": "9ce68da8",
   "metadata": {},
   "outputs": [],
   "source": [
    "## restrict to wordy posts\n",
    "\n",
    "df = pd.read_csv(\"train_test_data_v1.csv\")\n",
    "df = df.loc[(df.title_len > 40) | (df.body_len > 0)]"
   ]
  },
  {
   "cell_type": "markdown",
   "id": "53065e10",
   "metadata": {},
   "source": [
    "We make an outputs dataframe, and set a \"principal\" score, which is the principal axis from the PCA on these 3 features."
   ]
  },
  {
   "cell_type": "code",
   "execution_count": 3,
   "id": "a48cafd4",
   "metadata": {},
   "outputs": [],
   "source": [
    "outputs = df[['score', 'num_comments', 'upvote_ratio']].astype(float)"
   ]
  },
  {
   "cell_type": "code",
   "execution_count": 4,
   "id": "008ba162",
   "metadata": {},
   "outputs": [
    {
     "data": {
      "text/plain": [
       "PCA(n_components=3)"
      ]
     },
     "execution_count": 4,
     "metadata": {},
     "output_type": "execute_result"
    }
   ],
   "source": [
    "outputs[\"norm_score\"] = (outputs.score - outputs.score.mean()) / outputs.score.std()\n",
    "outputs[\"norm_comments\"] = (outputs.num_comments - outputs.num_comments.mean()) / outputs.num_comments.std()\n",
    "outputs[\"norm_ratio\"] = (outputs.upvote_ratio - outputs.upvote_ratio.mean()) / outputs.upvote_ratio.std()\n",
    "\n",
    "\n",
    "outputs_final = outputs[['norm_score', 'norm_comments', 'norm_ratio']]\n",
    "from sklearn.decomposition import PCA\n",
    "pca = PCA(n_components = 3)\n",
    "pca.fit(outputs_final)"
   ]
  },
  {
   "cell_type": "code",
   "execution_count": 5,
   "id": "f7d93149",
   "metadata": {},
   "outputs": [],
   "source": [
    "outputs[\"principal\"] = pca.components_[0][0]*outputs.norm_score + pca.components_[0][1]*outputs.norm_comments + pca.components_[0][2]*outputs.norm_ratio "
   ]
  },
  {
   "cell_type": "code",
   "execution_count": 6,
   "id": "ea4f8de8",
   "metadata": {},
   "outputs": [
    {
     "data": {
      "image/png": "[encoded data removed]",
      "text/plain": [
       "<Figure size 432x288 with 1 Axes>"
      ]
     },
     "metadata": {
      "needs_background": "light"
     },
     "output_type": "display_data"
    },
    {
     "data": {
      "text/html": [
       "<div>\n",
       "<style scoped>\n",
       "    .dataframe tbody tr th:only-of-type {\n",
       "        vertical-align: middle;\n",
       "    }\n",
       "\n",
       "    .dataframe tbody tr th {\n",
       "        vertical-align: top;\n",
       "    }\n",
       "\n",
       "    .dataframe thead th {\n",
       "        text-align: right;\n",
       "    }\n",
       "</style>\n",
       "<table border=\"1\" class=\"dataframe\">\n",
       "  <thead>\n",
       "    <tr style=\"text-align: right;\">\n",
       "      <th></th>\n",
       "      <th>Unnamed: 0</th>\n",
       "      <th>title_len</th>\n",
       "      <th>body_len</th>\n",
       "      <th>upvote_ratio</th>\n",
       "      <th>time</th>\n",
       "      <th>compound_score</th>\n",
       "      <th>num_early_comments</th>\n",
       "      <th>num_comments</th>\n",
       "      <th>num_top_comments</th>\n",
       "      <th>score</th>\n",
       "      <th>principal</th>\n",
       "    </tr>\n",
       "  </thead>\n",
       "  <tbody>\n",
       "    <tr>\n",
       "      <th>4</th>\n",
       "      <td>l6x130</td>\n",
       "      <td>291</td>\n",
       "      <td>183</td>\n",
       "      <td>0.97</td>\n",
       "      <td>349.0</td>\n",
       "      <td>-0.5267</td>\n",
       "      <td>141</td>\n",
       "      <td>18325</td>\n",
       "      <td>69.0</td>\n",
       "      <td>222152.0</td>\n",
       "      <td>-3.487162</td>\n",
       "    </tr>\n",
       "    <tr>\n",
       "      <th>6</th>\n",
       "      <td>l6ekdz</td>\n",
       "      <td>110</td>\n",
       "      <td>0</td>\n",
       "      <td>0.96</td>\n",
       "      <td>795.0</td>\n",
       "      <td>0.2732</td>\n",
       "      <td>1625</td>\n",
       "      <td>15178</td>\n",
       "      <td>114.0</td>\n",
       "      <td>211182.0</td>\n",
       "      <td>-2.945107</td>\n",
       "    </tr>\n",
       "    <tr>\n",
       "      <th>8</th>\n",
       "      <td>l8c0u4</td>\n",
       "      <td>168</td>\n",
       "      <td>0</td>\n",
       "      <td>0.92</td>\n",
       "      <td>1133.0</td>\n",
       "      <td>0.5423</td>\n",
       "      <td>527</td>\n",
       "      <td>7171</td>\n",
       "      <td>38.0</td>\n",
       "      <td>210747.0</td>\n",
       "      <td>-1.731606</td>\n",
       "    </tr>\n",
       "    <tr>\n",
       "      <th>10</th>\n",
       "      <td>l6jobf</td>\n",
       "      <td>122</td>\n",
       "      <td>0</td>\n",
       "      <td>0.94</td>\n",
       "      <td>1017.0</td>\n",
       "      <td>0.6369</td>\n",
       "      <td>241</td>\n",
       "      <td>6973</td>\n",
       "      <td>117.0</td>\n",
       "      <td>195065.0</td>\n",
       "      <td>-1.701527</td>\n",
       "    </tr>\n",
       "    <tr>\n",
       "      <th>12</th>\n",
       "      <td>l90oq6</td>\n",
       "      <td>234</td>\n",
       "      <td>0</td>\n",
       "      <td>0.93</td>\n",
       "      <td>1024.0</td>\n",
       "      <td>0.8743</td>\n",
       "      <td>296</td>\n",
       "      <td>3858</td>\n",
       "      <td>120.0</td>\n",
       "      <td>185785.0</td>\n",
       "      <td>-1.179968</td>\n",
       "    </tr>\n",
       "    <tr>\n",
       "      <th>...</th>\n",
       "      <td>...</td>\n",
       "      <td>...</td>\n",
       "      <td>...</td>\n",
       "      <td>...</td>\n",
       "      <td>...</td>\n",
       "      <td>...</td>\n",
       "      <td>...</td>\n",
       "      <td>...</td>\n",
       "      <td>...</td>\n",
       "      <td>...</td>\n",
       "      <td>...</td>\n",
       "    </tr>\n",
       "    <tr>\n",
       "      <th>136</th>\n",
       "      <td>nfa216</td>\n",
       "      <td>37</td>\n",
       "      <td>5270</td>\n",
       "      <td>0.77</td>\n",
       "      <td>298.0</td>\n",
       "      <td>0.9942</td>\n",
       "      <td>16</td>\n",
       "      <td>573</td>\n",
       "      <td>203.0</td>\n",
       "      <td>633.0</td>\n",
       "      <td>2.231093</td>\n",
       "    </tr>\n",
       "    <tr>\n",
       "      <th>137</th>\n",
       "      <td>nfbwv5</td>\n",
       "      <td>68</td>\n",
       "      <td>875</td>\n",
       "      <td>0.79</td>\n",
       "      <td>379.0</td>\n",
       "      <td>0.9517</td>\n",
       "      <td>7</td>\n",
       "      <td>130</td>\n",
       "      <td>49.0</td>\n",
       "      <td>456.0</td>\n",
       "      <td>2.134443</td>\n",
       "    </tr>\n",
       "    <tr>\n",
       "      <th>138</th>\n",
       "      <td>nfjo84</td>\n",
       "      <td>52</td>\n",
       "      <td>0</td>\n",
       "      <td>0.80</td>\n",
       "      <td>684.0</td>\n",
       "      <td>0.0000</td>\n",
       "      <td>2</td>\n",
       "      <td>41</td>\n",
       "      <td>10.0</td>\n",
       "      <td>175.0</td>\n",
       "      <td>2.072955</td>\n",
       "    </tr>\n",
       "    <tr>\n",
       "      <th>139</th>\n",
       "      <td>nfkn43</td>\n",
       "      <td>73</td>\n",
       "      <td>0</td>\n",
       "      <td>0.85</td>\n",
       "      <td>722.0</td>\n",
       "      <td>-0.4215</td>\n",
       "      <td>11</td>\n",
       "      <td>99</td>\n",
       "      <td>35.0</td>\n",
       "      <td>137.0</td>\n",
       "      <td>1.694622</td>\n",
       "    </tr>\n",
       "    <tr>\n",
       "      <th>140</th>\n",
       "      <td>nfqs26</td>\n",
       "      <td>55</td>\n",
       "      <td>5704</td>\n",
       "      <td>0.93</td>\n",
       "      <td>981.0</td>\n",
       "      <td>0.9680</td>\n",
       "      <td>11</td>\n",
       "      <td>203</td>\n",
       "      <td>56.0</td>\n",
       "      <td>46.0</td>\n",
       "      <td>1.088316</td>\n",
       "    </tr>\n",
       "  </tbody>\n",
       "</table>\n",
       "<p>95 rows × 11 columns</p>\n",
       "</div>"
      ],
      "text/plain": [
       "    Unnamed: 0  title_len  body_len  upvote_ratio    time  compound_score  \\\n",
       "4       l6x130        291       183          0.97   349.0         -0.5267   \n",
       "6       l6ekdz        110         0          0.96   795.0          0.2732   \n",
       "8       l8c0u4        168         0          0.92  1133.0          0.5423   \n",
       "10      l6jobf        122         0          0.94  1017.0          0.6369   \n",
       "12      l90oq6        234         0          0.93  1024.0          0.8743   \n",
       "..         ...        ...       ...           ...     ...             ...   \n",
       "136     nfa216         37      5270          0.77   298.0          0.9942   \n",
       "137     nfbwv5         68       875          0.79   379.0          0.9517   \n",
       "138     nfjo84         52         0          0.80   684.0          0.0000   \n",
       "139     nfkn43         73         0          0.85   722.0         -0.4215   \n",
       "140     nfqs26         55      5704          0.93   981.0          0.9680   \n",
       "\n",
       "     num_early_comments  num_comments  num_top_comments     score  principal  \n",
       "4                   141         18325              69.0  222152.0  -3.487162  \n",
       "6                  1625         15178             114.0  211182.0  -2.945107  \n",
       "8                   527          7171              38.0  210747.0  -1.731606  \n",
       "10                  241          6973             117.0  195065.0  -1.701527  \n",
       "12                  296          3858             120.0  185785.0  -1.179968  \n",
       "..                  ...           ...               ...       ...        ...  \n",
       "136                  16           573             203.0     633.0   2.231093  \n",
       "137                   7           130              49.0     456.0   2.134443  \n",
       "138                   2            41              10.0     175.0   2.072955  \n",
       "139                  11            99              35.0     137.0   1.694622  \n",
       "140                  11           203              56.0      46.0   1.088316  \n",
       "\n",
       "[95 rows x 11 columns]"
      ]
     },
     "execution_count": 6,
     "metadata": {},
     "output_type": "execute_result"
    }
   ],
   "source": [
    "outputs_copy = outputs.copy()\n",
    "df[\"principal\"] = outputs_copy.principal\n",
    "plt.hist(df.principal)\n",
    "plt.show()\n",
    "df"
   ]
  },
  {
   "cell_type": "code",
   "execution_count": 7,
   "id": "ecebaa23",
   "metadata": {},
   "outputs": [
    {
     "data": {
      "text/plain": [
       "score                -0.888949\n",
       "num_comments         -0.784367\n",
       "upvote_ratio         -0.600587\n",
       "num_early_comments   -0.595567\n",
       "title_len            -0.247268\n",
       "time                 -0.065905\n",
       "num_top_comments      0.143630\n",
       "compound_score        0.160695\n",
       "body_len              0.223037\n",
       "principal             1.000000\n",
       "Name: principal, dtype: float64"
      ]
     },
     "execution_count": 7,
     "metadata": {},
     "output_type": "execute_result"
    }
   ],
   "source": [
    "df.corr()['principal'].sort_values()"
   ]
  },
  {
   "cell_type": "markdown",
   "id": "cd98f129",
   "metadata": {},
   "source": [
    "We shrink the time values because they give my computer a headache."
   ]
  },
  {
   "cell_type": "code",
   "execution_count": 8,
   "id": "67fb301b",
   "metadata": {},
   "outputs": [],
   "source": [
    "## df['small_times'] = df.time_created/1000000\n",
    "\n",
    "## plt.hist(df['score'])"
   ]
  },
  {
   "cell_type": "markdown",
   "id": "c7113fb2",
   "metadata": {},
   "source": [
    "We regress against time, because we don't want to be biased towards older posts."
   ]
  },
  {
   "cell_type": "code",
   "execution_count": 9,
   "id": "918882e4",
   "metadata": {},
   "outputs": [],
   "source": [
    "## from sklearn.linear_model import LinearRegression\n",
    "\n",
    "## slr = LinearRegression(copy_X = True)\n",
    "\n",
    "## slr.fit(df['small_times'].values.reshape(-1,1), df['principal'].values)"
   ]
  },
  {
   "cell_type": "markdown",
   "id": "5eb8f4ab",
   "metadata": {},
   "source": [
    "Our final output variable is called popularity_score."
   ]
  },
  {
   "cell_type": "code",
   "execution_count": 10,
   "id": "ecdeb6b0",
   "metadata": {},
   "outputs": [
    {
     "data": {
      "text/plain": [
       "0.4842105263157895"
      ]
     },
     "execution_count": 10,
     "metadata": {},
     "output_type": "execute_result"
    }
   ],
   "source": [
    "##b0 = slr.intercept_\n",
    "## b1 = slr.coef_[0]\n",
    "\n",
    "## df['popularity_score'] = df.principal - b0 - b1 * df.small_times\n",
    "\n",
    "## define the classifiation here, check what proportion of posts are \"good\"\n",
    "df['class'] = (df['principal'] > df['principal'].mean()+0.0*df['principal'].std())\n",
    "df['class'] = df['class'].astype(int)\n",
    "df['class'].mean()"
   ]
  },
  {
   "cell_type": "code",
   "execution_count": 11,
   "id": "060a5b04",
   "metadata": {},
   "outputs": [],
   "source": [
    "## code from K Nearest Neighbors Lecture, measuring accuracy of model\n",
    "def get_acc(model,X,y):\n",
    "    pred = model.predict(X)\n",
    "    return np.sum(pred == y)/len(y)\n"
   ]
  },
  {
   "cell_type": "code",
   "execution_count": 12,
   "id": "8128911d",
   "metadata": {},
   "outputs": [
    {
     "data": {
      "image/png": "[encoded data removed]",
      "text/plain": [
       "<Figure size 720x576 with 1 Axes>"
      ]
     },
     "metadata": {
      "needs_background": "light"
     },
     "output_type": "display_data"
    }
   ],
   "source": [
    "## KNN implementation\n",
    "from sklearn.model_selection import StratifiedKFold\n",
    "from sklearn.model_selection import train_test_split\n",
    "from sklearn.neighbors import KNeighborsClassifier\n",
    "## define data\n",
    "\n",
    "kfold = StratifiedKFold(5,shuffle = True,random_state = 440)\n",
    "\n",
    "max_neighbors = 20\n",
    "\n",
    "X = df[['num_early_comments','body_len','title_len']].to_numpy()\n",
    "y = df[['class']].to_numpy()\n",
    "\n",
    "\n",
    "## Make an empty array to hold your cv accuracies here\n",
    "accuracy = np.zeros((5,max_neighbors))\n",
    "\n",
    "for train_index, test_index in kfold.split(X,y):\n",
    "    X_train, X_test = X[train_index], X[test_index]\n",
    "    y_train, y_test = y[train_index], y[test_index]\n",
    "    i = 0;\n",
    "    j = 0\n",
    "    for i in range (0,max_neighbors):\n",
    "        knn = KNeighborsClassifier(n_neighbors = i+1)\n",
    "        knn.fit(X_train,y_train.ravel())\n",
    "        accuracy[j][i] = get_acc(knn,X_test,y_test.ravel())\n",
    "        i = i+1\n",
    "    j = j+1\n",
    "\n",
    "#Plot how the accuracy changes\n",
    "\n",
    "plt.figure(figsize=(10,8))\n",
    "\n",
    "## Plot the number of neighbors on the x\n",
    "## plot the avg cross validation accuracy on the y\n",
    "plt.plot(np.linspace(1,max_neighbors,num=max_neighbors),100*np.mean(accuracy,axis=0))\n",
    "\n",
    "## Use these as your axes labels\n",
    "plt.xlabel(\"Number of Neighbors\", fontsize=16)\n",
    "plt.ylabel(\"Average CV Accuracy (%)\", fontsize=16)\n",
    "\n",
    "plt.show()"
   ]
  },
  {
   "cell_type": "code",
   "execution_count": 13,
   "id": "5c78efdc",
   "metadata": {},
   "outputs": [
    {
     "data": {
      "text/plain": [
       "82.75862068965517"
      ]
     },
     "execution_count": 13,
     "metadata": {},
     "output_type": "execute_result"
    }
   ],
   "source": [
    "from sklearn.ensemble import RandomForestClassifier\n",
    "from sklearn.model_selection import train_test_split\n",
    "from sklearn.metrics import confusion_matrix\n",
    "\n",
    "X_train, X_test, y_train, y_test = train_test_split(X, y, \n",
    "                                                    test_size=0.3, \n",
    "                                                    random_state=6)\n",
    "\n",
    "clf = RandomForestClassifier(max_depth = 4, random_state=614)\n",
    "\n",
    "clf.fit(X_train,y_train.ravel())\n",
    "\n",
    "100*get_acc(clf,X_test,y_test.ravel())\n",
    "\n"
   ]
  },
  {
   "cell_type": "code",
   "execution_count": 14,
   "id": "7c5eed59",
   "metadata": {},
   "outputs": [
    {
     "name": "stdout",
     "output_type": "stream",
     "text": [
      "82.75862068965517\n"
     ]
    },
    {
     "data": {
      "text/plain": [
       "array([[21,  2],\n",
       "       [ 3, 22]])"
      ]
     },
     "execution_count": 14,
     "metadata": {},
     "output_type": "execute_result"
    },
    {
     "data": {
      "text/plain": [
       "<Figure size 1440x1440 with 0 Axes>"
      ]
     },
     "metadata": {},
     "output_type": "display_data"
    }
   ],
   "source": [
    "from sklearn import tree\n",
    "from sklearn.tree import DecisionTreeClassifier\n",
    "\n",
    "tree_clf = DecisionTreeClassifier(random_state = 100,max_depth=2)\n",
    "\n",
    "plt.figure(figsize = (20,20))\n",
    "\n",
    "## Plot the fitted tree\n",
    "fig = tree_clf.fit(X_train, y_train)\n",
    "## tree.plot_tree(fig,filled = True,max_depth=1)\n",
    "## plt.show()\n",
    "print(100*get_acc(fig,X_test,y_test.ravel()))\n",
    "\n",
    "X_train, X_test, y_train, y_test = train_test_split(X, y, \n",
    "                                                    test_size=0.5, \n",
    "                                                    random_state=29)\n",
    "confusion_matrix(y_test, fig.predict(X_test))"
   ]
  },
  {
   "cell_type": "code",
   "execution_count": 15,
   "id": "0f3c1b27",
   "metadata": {},
   "outputs": [
    {
     "data": {
      "image/png": "[encoded data removed]",
      "text/plain": [
       "<Figure size 432x288 with 1 Axes>"
      ]
     },
     "metadata": {
      "needs_background": "light"
     },
     "output_type": "display_data"
    },
    {
     "data": {
      "text/plain": [
       "0.89375"
      ]
     },
     "execution_count": 15,
     "metadata": {},
     "output_type": "execute_result"
    }
   ],
   "source": [
    "n=100\n",
    "accuracy = np.zeros(n)\n",
    "\n",
    "for i in range(0,n):\n",
    "    X_train, X_test, y_train, y_test = train_test_split(X, y, \n",
    "                                                    test_size=0.5, \n",
    "                                                    random_state=i)\n",
    "    fig = tree_clf.fit(X_train, y_train)\n",
    "    accuracy[i] = get_acc(fig,X_test,y_test.ravel())\n",
    "plt.hist(accuracy)\n",
    "plt.show()\n",
    "accuracy.mean()"
   ]
  }
 ],
 "metadata": {
  "kernelspec": {
   "display_name": "Python 3",
   "language": "python",
   "name": "python3"
  },
  "language_info": {
   "codemirror_mode": {
    "name": "ipython",
    "version": 3
   },
   "file_extension": ".py",
   "mimetype": "text/x-python",
   "name": "python",
   "nbconvert_exporter": "python",
   "pygments_lexer": "ipython3",
   "version": "3.9.5"
  }
 },
 "nbformat": 4,
 "nbformat_minor": 5
}
