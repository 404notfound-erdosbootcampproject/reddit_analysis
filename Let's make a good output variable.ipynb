{
 "cells": [
  {
   "cell_type": "code",
   "execution_count": 1,
   "id": "7963e924",
   "metadata": {},
   "outputs": [],
   "source": [
    "import pandas as pd\n",
    "import matplotlib.pyplot as plt\n",
    "import numpy as np\n",
    "\n",
    "import matplotlib.pyplot as plt\n",
    "import seaborn as sns"
   ]
  },
  {
   "cell_type": "code",
   "execution_count": 2,
   "id": "9ce68da8",
   "metadata": {},
   "outputs": [
    {
     "data": {
      "text/plain": [
       "Unnamed: 0            60\n",
       "title_len             60\n",
       "body_len              60\n",
       "upvote_ratio          60\n",
       "time                  60\n",
       "compound_score        60\n",
       "num_early_comments    60\n",
       "num_comments          60\n",
       "num_top_comments      60\n",
       "score                 60\n",
       "dtype: int64"
      ]
     },
     "execution_count": 2,
     "metadata": {},
     "output_type": "execute_result"
    }
   ],
   "source": [
    "## restrict to wordy posts\n",
    "\n",
    "df = pd.read_csv(\"train_test_data_v1.csv\")\n",
    "df = df.loc[(df.title_len > df.title_len.quantile(.66)) | (df.body_len > 0)]\n",
    "df.count()"
   ]
  },
  {
   "cell_type": "markdown",
   "id": "53065e10",
   "metadata": {},
   "source": [
    "We make an outputs dataframe, and set a \"principal\" score, which is the principal axis from the PCA on these 3 features."
   ]
  },
  {
   "cell_type": "code",
   "execution_count": 3,
   "id": "a48cafd4",
   "metadata": {},
   "outputs": [],
   "source": [
    "outputs = df[['score', 'num_comments', 'upvote_ratio']].astype(float)"
   ]
  },
  {
   "cell_type": "code",
   "execution_count": 4,
   "id": "008ba162",
   "metadata": {},
   "outputs": [
    {
     "data": {
      "text/plain": [
       "array([[ 0.65780786,  0.54111587,  0.52391072],\n",
       "       [ 0.01669115,  0.68494911, -0.72839969],\n",
       "       [-0.75300081,  0.48789172,  0.44153306]])"
      ]
     },
     "execution_count": 4,
     "metadata": {},
     "output_type": "execute_result"
    }
   ],
   "source": [
    "outputs[\"norm_score\"] = (outputs.score - outputs.score.mean()) / outputs.score.std()\n",
    "outputs[\"norm_comments\"] = (outputs.num_comments - outputs.num_comments.mean()) / outputs.num_comments.std()\n",
    "outputs[\"norm_ratio\"] = (outputs.upvote_ratio - outputs.upvote_ratio.mean()) / outputs.upvote_ratio.std()\n",
    "\n",
    "outputs_final = outputs[['norm_score', 'norm_comments', 'norm_ratio']]\n",
    "from sklearn.decomposition import PCA\n",
    "pca = PCA(n_components = 3)\n",
    "pca.fit(outputs_final)\n",
    "\n",
    "pca.components_"
   ]
  },
  {
   "cell_type": "code",
   "execution_count": 5,
   "id": "f7d93149",
   "metadata": {},
   "outputs": [],
   "source": [
    "outputs[\"principal\"] = pca.components_[0][0]*outputs.norm_score + pca.components_[0][1]*outputs.norm_comments + pca.components_[0][2]*outputs.norm_ratio "
   ]
  },
  {
   "cell_type": "code",
   "execution_count": 6,
   "id": "ea4f8de8",
   "metadata": {},
   "outputs": [
    {
     "data": {
      "image/png": "[encoded data removed]",
      "text/plain": [
       "<Figure size 432x288 with 1 Axes>"
      ]
     },
     "metadata": {
      "needs_background": "light"
     },
     "output_type": "display_data"
    }
   ],
   "source": [
    "outputs_copy = outputs.copy()\n",
    "df[\"principal\"] = outputs_copy.principal\n",
    "plt.hist(df.principal)\n",
    "plt.show()"
   ]
  },
  {
   "cell_type": "code",
   "execution_count": 7,
   "id": "896b0271",
   "metadata": {},
   "outputs": [
    {
     "data": {
      "text/plain": [
       "body_len             -0.373785\n",
       "num_top_comments     -0.343115\n",
       "compound_score       -0.299737\n",
       "time                  0.147760\n",
       "title_len             0.217916\n",
       "num_early_comments    0.553615\n",
       "upvote_ratio          0.711290\n",
       "num_comments          0.734649\n",
       "score                 0.893076\n",
       "principal             1.000000\n",
       "Name: principal, dtype: float64"
      ]
     },
     "execution_count": 7,
     "metadata": {},
     "output_type": "execute_result"
    }
   ],
   "source": [
    "df.corr()['principal'].sort_values()"
   ]
  },
  {
   "cell_type": "markdown",
   "id": "cd98f129",
   "metadata": {},
   "source": [
    "We shrink the time values because they give my computer a headache."
   ]
  },
  {
   "cell_type": "code",
   "execution_count": 8,
   "id": "67fb301b",
   "metadata": {},
   "outputs": [],
   "source": [
    "## df['small_times'] = df.time_created/1000000\n",
    "\n",
    "## plt.hist(df['score'])"
   ]
  },
  {
   "cell_type": "markdown",
   "id": "c7113fb2",
   "metadata": {},
   "source": [
    "We regress against time, because we don't want to be biased towards older posts."
   ]
  },
  {
   "cell_type": "code",
   "execution_count": 9,
   "id": "918882e4",
   "metadata": {},
   "outputs": [],
   "source": [
    "## from sklearn.linear_model import LinearRegression\n",
    "\n",
    "## slr = LinearRegression(copy_X = True)\n",
    "\n",
    "## slr.fit(df['small_times'].values.reshape(-1,1), df['principal'].values)"
   ]
  },
  {
   "cell_type": "markdown",
   "id": "5eb8f4ab",
   "metadata": {},
   "source": [
    "Our final output variable is called popularity_score."
   ]
  },
  {
   "cell_type": "code",
   "execution_count": 10,
   "id": "ecdeb6b0",
   "metadata": {},
   "outputs": [
    {
     "data": {
      "text/plain": [
       "0.5333333333333333"
      ]
     },
     "execution_count": 10,
     "metadata": {},
     "output_type": "execute_result"
    }
   ],
   "source": [
    "##b0 = slr.intercept_\n",
    "## b1 = slr.coef_[0]\n",
    "\n",
    "## df['popularity_score'] = df.principal - b0 - b1 * df.small_times\n",
    "\n",
    "## define the classifiation here, check what proportion of posts are \"good\"\n",
    "df['class'] = df['principal'] > (df['principal'].mean()+0.0*df['principal'].std()) \n",
    "df['class'] = df['class'].astype(int)\n",
    "df['class'].mean()"
   ]
  },
  {
   "cell_type": "code",
   "execution_count": 11,
   "id": "060a5b04",
   "metadata": {},
   "outputs": [],
   "source": [
    "## code from K Nearest Neighbors Lecture, measuring accuracy of model\n",
    "def get_acc(model,X,y):\n",
    "    pred = model.predict(X)\n",
    "    return np.sum(pred == y)/len(y)\n"
   ]
  },
  {
   "cell_type": "code",
   "execution_count": 12,
   "id": "8128911d",
   "metadata": {},
   "outputs": [
    {
     "data": {
      "image/png": "[encoded data removed]",
      "text/plain": [
       "<Figure size 720x576 with 1 Axes>"
      ]
     },
     "metadata": {
      "needs_background": "light"
     },
     "output_type": "display_data"
    }
   ],
   "source": [
    "## KNN implementation\n",
    "from sklearn.model_selection import StratifiedKFold\n",
    "from sklearn.model_selection import train_test_split\n",
    "from sklearn.neighbors import KNeighborsClassifier\n",
    "## define data\n",
    "\n",
    "kfold = StratifiedKFold(5,shuffle = True,random_state = 440)\n",
    "\n",
    "max_neighbors = 5\n",
    "\n",
    "X = df[['num_early_comments','body_len','compound_score','title_len']].to_numpy()\n",
    "y = df[['class']].to_numpy()\n",
    "\n",
    "\n",
    "## Make an empty array to hold your cv accuracies here\n",
    "accuracy = np.zeros((5,max_neighbors))\n",
    "\n",
    "for train_index, test_index in kfold.split(X,y):\n",
    "    X_train, X_test = X[train_index], X[test_index]\n",
    "    y_train, y_test = y[train_index], y[test_index]\n",
    "    i = 0;\n",
    "    j = 0\n",
    "    for i in range (0,max_neighbors):\n",
    "        knn = KNeighborsClassifier(n_neighbors = i+1)\n",
    "        knn.fit(X_train,y_train.ravel())\n",
    "        accuracy[j][i] = get_acc(knn,X_test,y_test.ravel())\n",
    "        i = i+1\n",
    "    j = j+1\n",
    "\n",
    "#Plot how the accuracy changes\n",
    "\n",
    "plt.figure(figsize=(10,8))\n",
    "\n",
    "## Plot the number of neighbors on the x\n",
    "## plot the avg cross validation accuracy on the y\n",
    "plt.plot(np.linspace(1,max_neighbors,num=max_neighbors),100*np.mean(accuracy,axis=0))\n",
    "\n",
    "## Use these as your axes labels\n",
    "plt.xlabel(\"Number of Neighbors\", fontsize=16)\n",
    "plt.ylabel(\"Average CV Accuracy (%)\", fontsize=16)\n",
    "\n",
    "plt.show()"
   ]
  },
  {
   "cell_type": "code",
   "execution_count": 13,
   "id": "5c78efdc",
   "metadata": {},
   "outputs": [
    {
     "data": {
      "text/plain": [
       "100.0"
      ]
     },
     "execution_count": 13,
     "metadata": {},
     "output_type": "execute_result"
    }
   ],
   "source": [
    "from sklearn.ensemble import RandomForestClassifier\n",
    "from sklearn.model_selection import train_test_split\n",
    "from sklearn.metrics import confusion_matrix\n",
    "\n",
    "X_train, X_test, y_train, y_test = train_test_split(X, y, \n",
    "                                                    test_size=0.3, \n",
    "                                                    random_state=6)\n",
    "\n",
    "clf = RandomForestClassifier(max_depth = 4, random_state=614)\n",
    "\n",
    "clf.fit(X_train,y_train.ravel())\n",
    "\n",
    "100*get_acc(clf,X_test,y_test.ravel())\n",
    "\n"
   ]
  },
  {
   "cell_type": "code",
   "execution_count": 19,
   "id": "38ffc971",
   "metadata": {},
   "outputs": [
    {
     "name": "stdout",
     "output_type": "stream",
     "text": [
      "83.33333333333334\n"
     ]
    },
    {
     "data": {
      "text/plain": [
       "array([[14,  2],\n",
       "       [ 3, 11]])"
      ]
     },
     "execution_count": 19,
     "metadata": {},
     "output_type": "execute_result"
    },
    {
     "data": {
      "text/plain": [
       "<Figure size 1440x1440 with 0 Axes>"
      ]
     },
     "metadata": {},
     "output_type": "display_data"
    }
   ],
   "source": [
    "from sklearn import tree\n",
    "from sklearn.tree import DecisionTreeClassifier\n",
    "\n",
    "X_train, X_test0, y_train, y_test0 = train_test_split(X, y, \n",
    "                                                    test_size=0.5, \n",
    "                                                    random_state=9)\n",
    "tree_clf = DecisionTreeClassifier(random_state = 100,max_depth=2)\n",
    "\n",
    "plt.figure(figsize = (20,20))\n",
    "\n",
    "## Plot the fitted tree\n",
    "fig = tree_clf.fit(X_train, y_train)\n",
    "## tree.plot_tree(fig,filled = True,max_depth=1)\n",
    "## plt.show()\n",
    "print(100*get_acc(fig,X_test0,y_test0.ravel()))\n",
    "\n",
    "confusion_matrix(y_test, fig.predict(X_test))"
   ]
  },
  {
   "cell_type": "code",
   "execution_count": 21,
   "id": "516fe757",
   "metadata": {},
   "outputs": [
    {
     "data": {
      "image/png": "[encoded data removed]",
      "text/plain": [
       "<Figure size 432x288 with 1 Axes>"
      ]
     },
     "metadata": {
      "needs_background": "light"
     },
     "output_type": "display_data"
    },
    {
     "data": {
      "text/plain": [
       "0.78"
      ]
     },
     "execution_count": 21,
     "metadata": {},
     "output_type": "execute_result"
    }
   ],
   "source": [
    "n=100\n",
    "accuracy = np.zeros(n)\n",
    "fig = tree_clf.fit(X_train, y_train)\n",
    "for i in range(0,n):\n",
    "    X_train, X_test, y_train, y_test = train_test_split(X, y, \n",
    "                                                    test_size=0.5, \n",
    "                                                    random_state=i)\n",
    "    fig = tree_clf.fit(X_train, y_train)\n",
    "    accuracy[i] = get_acc(fig,X_test,y_test.ravel())\n",
    "plt.hist(accuracy)\n",
    "plt.show()\n",
    "accuracy.mean()"
   ]
  },
  {
   "cell_type": "code",
   "execution_count": null,
   "id": "eaa2b59b",
   "metadata": {},
   "outputs": [],
   "source": []
  }
 ],
 "metadata": {
  "kernelspec": {
   "display_name": "Python 3",
   "language": "python",
   "name": "python3"
  },
  "language_info": {
   "codemirror_mode": {
    "name": "ipython",
    "version": 3
   },
   "file_extension": ".py",
   "mimetype": "text/x-python",
   "name": "python",
   "nbconvert_exporter": "python",
   "pygments_lexer": "ipython3",
   "version": "3.9.5"
  }
 },
 "nbformat": 4,
 "nbformat_minor": 5
}
