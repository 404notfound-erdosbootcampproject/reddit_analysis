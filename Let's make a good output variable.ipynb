{
 "cells": [
  {
   "cell_type": "code",
   "execution_count": 85,
   "id": "7963e924",
   "metadata": {},
   "outputs": [],
   "source": [
    "import pandas as pd\n",
    "import matplotlib.pyplot as plt\n",
    "import numpy as np\n",
    "\n",
    "import matplotlib.pyplot as plt\n",
    "import seaborn as sns"
   ]
  },
  {
   "cell_type": "code",
   "execution_count": 125,
   "id": "9ce68da8",
   "metadata": {},
   "outputs": [
    {
     "data": {
      "text/html": [
       "<div>\n",
       "<style scoped>\n",
       "    .dataframe tbody tr th:only-of-type {\n",
       "        vertical-align: middle;\n",
       "    }\n",
       "\n",
       "    .dataframe tbody tr th {\n",
       "        vertical-align: top;\n",
       "    }\n",
       "\n",
       "    .dataframe thead th {\n",
       "        text-align: right;\n",
       "    }\n",
       "</style>\n",
       "<table border=\"1\" class=\"dataframe\">\n",
       "  <thead>\n",
       "    <tr style=\"text-align: right;\">\n",
       "      <th></th>\n",
       "      <th>Unnamed: 0</th>\n",
       "      <th>title_len</th>\n",
       "      <th>body_len</th>\n",
       "      <th>upvote_ratio</th>\n",
       "      <th>time</th>\n",
       "      <th>compound_score</th>\n",
       "      <th>num_early_comments</th>\n",
       "      <th>num_comments</th>\n",
       "      <th>num_top_comments</th>\n",
       "      <th>score</th>\n",
       "    </tr>\n",
       "  </thead>\n",
       "  <tbody>\n",
       "    <tr>\n",
       "      <th>0</th>\n",
       "      <td>l8rf4k</td>\n",
       "      <td>22</td>\n",
       "      <td>0</td>\n",
       "      <td>0.98</td>\n",
       "      <td>600.0</td>\n",
       "      <td>0.0000</td>\n",
       "      <td>623</td>\n",
       "      <td>12483</td>\n",
       "      <td>68.0</td>\n",
       "      <td>413085.0</td>\n",
       "    </tr>\n",
       "    <tr>\n",
       "      <th>1</th>\n",
       "      <td>l6wu59</td>\n",
       "      <td>38</td>\n",
       "      <td>0</td>\n",
       "      <td>0.97</td>\n",
       "      <td>340.0</td>\n",
       "      <td>0.4019</td>\n",
       "      <td>350</td>\n",
       "      <td>12840</td>\n",
       "      <td>80.0</td>\n",
       "      <td>315560.0</td>\n",
       "    </tr>\n",
       "    <tr>\n",
       "      <th>2</th>\n",
       "      <td>l78uct</td>\n",
       "      <td>29</td>\n",
       "      <td>0</td>\n",
       "      <td>0.97</td>\n",
       "      <td>786.0</td>\n",
       "      <td>0.2732</td>\n",
       "      <td>1332</td>\n",
       "      <td>23681</td>\n",
       "      <td>111.0</td>\n",
       "      <td>280976.0</td>\n",
       "    </tr>\n",
       "    <tr>\n",
       "      <th>3</th>\n",
       "      <td>l846a1</td>\n",
       "      <td>36</td>\n",
       "      <td>0</td>\n",
       "      <td>0.97</td>\n",
       "      <td>784.0</td>\n",
       "      <td>0.2732</td>\n",
       "      <td>1128</td>\n",
       "      <td>20563</td>\n",
       "      <td>106.0</td>\n",
       "      <td>252031.0</td>\n",
       "    </tr>\n",
       "    <tr>\n",
       "      <th>4</th>\n",
       "      <td>l6x130</td>\n",
       "      <td>291</td>\n",
       "      <td>183</td>\n",
       "      <td>0.97</td>\n",
       "      <td>349.0</td>\n",
       "      <td>-0.5267</td>\n",
       "      <td>141</td>\n",
       "      <td>18325</td>\n",
       "      <td>69.0</td>\n",
       "      <td>222152.0</td>\n",
       "    </tr>\n",
       "    <tr>\n",
       "      <th>...</th>\n",
       "      <td>...</td>\n",
       "      <td>...</td>\n",
       "      <td>...</td>\n",
       "      <td>...</td>\n",
       "      <td>...</td>\n",
       "      <td>...</td>\n",
       "      <td>...</td>\n",
       "      <td>...</td>\n",
       "      <td>...</td>\n",
       "      <td>...</td>\n",
       "    </tr>\n",
       "    <tr>\n",
       "      <th>136</th>\n",
       "      <td>nfa216</td>\n",
       "      <td>37</td>\n",
       "      <td>5270</td>\n",
       "      <td>0.77</td>\n",
       "      <td>298.0</td>\n",
       "      <td>0.9942</td>\n",
       "      <td>16</td>\n",
       "      <td>573</td>\n",
       "      <td>203.0</td>\n",
       "      <td>633.0</td>\n",
       "    </tr>\n",
       "    <tr>\n",
       "      <th>137</th>\n",
       "      <td>nfbwv5</td>\n",
       "      <td>68</td>\n",
       "      <td>875</td>\n",
       "      <td>0.79</td>\n",
       "      <td>379.0</td>\n",
       "      <td>0.9517</td>\n",
       "      <td>7</td>\n",
       "      <td>130</td>\n",
       "      <td>49.0</td>\n",
       "      <td>456.0</td>\n",
       "    </tr>\n",
       "    <tr>\n",
       "      <th>138</th>\n",
       "      <td>nfjo84</td>\n",
       "      <td>52</td>\n",
       "      <td>0</td>\n",
       "      <td>0.80</td>\n",
       "      <td>684.0</td>\n",
       "      <td>0.0000</td>\n",
       "      <td>2</td>\n",
       "      <td>41</td>\n",
       "      <td>10.0</td>\n",
       "      <td>175.0</td>\n",
       "    </tr>\n",
       "    <tr>\n",
       "      <th>139</th>\n",
       "      <td>nfkn43</td>\n",
       "      <td>73</td>\n",
       "      <td>0</td>\n",
       "      <td>0.85</td>\n",
       "      <td>722.0</td>\n",
       "      <td>-0.4215</td>\n",
       "      <td>11</td>\n",
       "      <td>99</td>\n",
       "      <td>35.0</td>\n",
       "      <td>137.0</td>\n",
       "    </tr>\n",
       "    <tr>\n",
       "      <th>140</th>\n",
       "      <td>nfqs26</td>\n",
       "      <td>55</td>\n",
       "      <td>5704</td>\n",
       "      <td>0.93</td>\n",
       "      <td>981.0</td>\n",
       "      <td>0.9680</td>\n",
       "      <td>11</td>\n",
       "      <td>203</td>\n",
       "      <td>56.0</td>\n",
       "      <td>46.0</td>\n",
       "    </tr>\n",
       "  </tbody>\n",
       "</table>\n",
       "<p>141 rows × 10 columns</p>\n",
       "</div>"
      ],
      "text/plain": [
       "    Unnamed: 0  title_len  body_len  upvote_ratio   time  compound_score  \\\n",
       "0       l8rf4k         22         0          0.98  600.0          0.0000   \n",
       "1       l6wu59         38         0          0.97  340.0          0.4019   \n",
       "2       l78uct         29         0          0.97  786.0          0.2732   \n",
       "3       l846a1         36         0          0.97  784.0          0.2732   \n",
       "4       l6x130        291       183          0.97  349.0         -0.5267   \n",
       "..         ...        ...       ...           ...    ...             ...   \n",
       "136     nfa216         37      5270          0.77  298.0          0.9942   \n",
       "137     nfbwv5         68       875          0.79  379.0          0.9517   \n",
       "138     nfjo84         52         0          0.80  684.0          0.0000   \n",
       "139     nfkn43         73         0          0.85  722.0         -0.4215   \n",
       "140     nfqs26         55      5704          0.93  981.0          0.9680   \n",
       "\n",
       "     num_early_comments  num_comments  num_top_comments     score  \n",
       "0                   623         12483              68.0  413085.0  \n",
       "1                   350         12840              80.0  315560.0  \n",
       "2                  1332         23681             111.0  280976.0  \n",
       "3                  1128         20563             106.0  252031.0  \n",
       "4                   141         18325              69.0  222152.0  \n",
       "..                  ...           ...               ...       ...  \n",
       "136                  16           573             203.0     633.0  \n",
       "137                   7           130              49.0     456.0  \n",
       "138                   2            41              10.0     175.0  \n",
       "139                  11            99              35.0     137.0  \n",
       "140                  11           203              56.0      46.0  \n",
       "\n",
       "[141 rows x 10 columns]"
      ]
     },
     "execution_count": 125,
     "metadata": {},
     "output_type": "execute_result"
    }
   ],
   "source": [
    "df = pd.read_csv(\"train_test_data_v1.csv\")\n",
    "df"
   ]
  },
  {
   "cell_type": "markdown",
   "id": "53065e10",
   "metadata": {},
   "source": [
    "We make an outputs dataframe, and set a \"principal\" score, which is the principal axis from the PCA on these 3 features."
   ]
  },
  {
   "cell_type": "code",
   "execution_count": 128,
   "id": "a48cafd4",
   "metadata": {},
   "outputs": [],
   "source": [
    "outputs = df[['score', 'num_comments', 'upvote_ratio']].astype(float)"
   ]
  },
  {
   "cell_type": "code",
   "execution_count": 136,
   "id": "008ba162",
   "metadata": {},
   "outputs": [
    {
     "data": {
      "text/plain": [
       "array([0.6594436 , 0.59671171, 0.45724093])"
      ]
     },
     "execution_count": 136,
     "metadata": {},
     "output_type": "execute_result"
    }
   ],
   "source": [
    "outputs[\"norm_score\"] = (outputs.score - outputs.score.mean()) / outputs.score.std()\n",
    "outputs[\"norm_comments\"] = (outputs.num_comments - outputs.num_comments.mean()) / outputs.num_comments.std()\n",
    "outputs[\"norm_ratio\"] = (outputs.upvote_ratio - outputs.upvote_ratio.mean()) / outputs.upvote_ratio.std()\n",
    "\n",
    "\n",
    "outputs_final = outputs[['norm_score', 'norm_comments', 'norm_ratio']]\n",
    "from sklearn.decomposition import PCA\n",
    "pca = PCA(n_components = 3)\n",
    "pca.fit(outputs_final)\n",
    "pca.components_[0]"
   ]
  },
  {
   "cell_type": "code",
   "execution_count": 137,
   "id": "f7d93149",
   "metadata": {},
   "outputs": [],
   "source": [
    "outputs[\"principal\"] = pca.components_[0][0] + pca.components_[0][1]*outputs.norm_comments + pca.components_[0][2]*outputs.norm_ratio "
   ]
  },
  {
   "cell_type": "code",
   "execution_count": 141,
   "id": "ea4f8de8",
   "metadata": {},
   "outputs": [],
   "source": [
    "df[\"principal\"] = outputs.principal"
   ]
  },
  {
   "cell_type": "markdown",
   "id": "cd98f129",
   "metadata": {},
   "source": [
    "We shrink the time values because they give my computer a headache."
   ]
  },
  {
   "cell_type": "code",
   "execution_count": 143,
   "id": "67fb301b",
   "metadata": {},
   "outputs": [],
   "source": [
    "## df['small_times'] = df.time_created/1000000\n",
    "\n",
    "## plt.hist(df['score'])"
   ]
  },
  {
   "cell_type": "markdown",
   "id": "c7113fb2",
   "metadata": {},
   "source": [
    "We regress against time, because we don't want to be biased towards older posts."
   ]
  },
  {
   "cell_type": "code",
   "execution_count": 146,
   "id": "918882e4",
   "metadata": {},
   "outputs": [],
   "source": [
    "## from sklearn.linear_model import LinearRegression\n",
    "\n",
    "## slr = LinearRegression(copy_X = True)\n",
    "\n",
    "## slr.fit(df['small_times'].values.reshape(-1,1), df['principal'].values)"
   ]
  },
  {
   "cell_type": "markdown",
   "id": "5eb8f4ab",
   "metadata": {},
   "source": [
    "Our final output variable is called popularity_score."
   ]
  },
  {
   "cell_type": "code",
   "execution_count": 147,
   "id": "ecdeb6b0",
   "metadata": {},
   "outputs": [],
   "source": [
    "##b0 = slr.intercept_\n",
    "## b1 = slr.coef_[0]\n",
    "\n",
    "## df['popularity_score'] = df.principal - b0 - b1 * df.small_times\n",
    "df['class'] = (df['principal'] > 1)\n"
   ]
  },
  {
   "cell_type": "code",
   "execution_count": 148,
   "id": "060a5b04",
   "metadata": {},
   "outputs": [],
   "source": [
    "## code from K Nearest Neighbors Lecture, accuracy\n",
    "def get_acc(model,X,y):\n",
    "    pred = model.predict(X)\n",
    "    return np.sum(pred == y)/len(y)\n"
   ]
  },
  {
   "cell_type": "code",
   "execution_count": 166,
   "id": "8128911d",
   "metadata": {},
   "outputs": [
    {
     "data": {
      "image/png": "[encoded data removed]",
      "text/plain": [
       "<Figure size 720x576 with 1 Axes>"
      ]
     },
     "metadata": {
      "needs_background": "light"
     },
     "output_type": "display_data"
    }
   ],
   "source": [
    "## code from K Nearest Neighbors Lecture\n",
    "from sklearn.model_selection import StratifiedKFold\n",
    "from sklearn.model_selection import train_test_split\n",
    "from sklearn.neighbors import KNeighborsClassifier\n",
    "## define data\n",
    "\n",
    "kfold = StratifiedKFold(5,shuffle = True,random_state = 440)\n",
    "\n",
    "max_neighbors = 20\n",
    "\n",
    "X = df[['title_len','num_early_comments']].to_numpy()\n",
    "y = df[['class']].to_numpy()\n",
    "\n",
    "\n",
    "## Make an empty array to hold your cv accuracies here\n",
    "accuracy = np.zeros((5,max_neighbors))\n",
    "\n",
    "for train_index, test_index in kfold.split(X,y):\n",
    "    X_train, X_test = X[train_index], X[test_index]\n",
    "    y_train, y_test = y[train_index], y[test_index]\n",
    "    i = 0;\n",
    "    j = 0\n",
    "    for i in range (0,max_neighbors):\n",
    "        knn = KNeighborsClassifier(n_neighbors = i+1)\n",
    "        knn.fit(X_train,y_train.ravel())\n",
    "        accuracy[j][i] = get_acc(knn,X_test,y_test.ravel())\n",
    "        i = i+1\n",
    "    j = j+1\n",
    "\n",
    "#Plot how the accuracy changes\n",
    "\n",
    "plt.figure(figsize=(10,8))\n",
    "\n",
    "## Plot the number of neighbors on the x\n",
    "## plot the avg cross validation accuracy on the y\n",
    "plt.plot(np.linspace(1,max_neighbors,num=max_neighbors),100*np.mean(accuracy,axis=0))\n",
    "\n",
    "## Use these as your axes labels\n",
    "plt.xlabel(\"Number of Neighbors\", fontsize=16)\n",
    "plt.ylabel(\"Average CV Accuracy (%)\", fontsize=16)\n",
    "\n",
    "plt.show()"
   ]
  },
  {
   "cell_type": "code",
   "execution_count": null,
   "id": "5c78efdc",
   "metadata": {},
   "outputs": [],
   "source": []
  }
 ],
 "metadata": {
  "kernelspec": {
   "display_name": "Python 3",
   "language": "python",
   "name": "python3"
  },
  "language_info": {
   "codemirror_mode": {
    "name": "ipython",
    "version": 3
   },
   "file_extension": ".py",
   "mimetype": "text/x-python",
   "name": "python",
   "nbconvert_exporter": "python",
   "pygments_lexer": "ipython3",
   "version": "3.9.5"
  }
 },
 "nbformat": 4,
 "nbformat_minor": 5
}
