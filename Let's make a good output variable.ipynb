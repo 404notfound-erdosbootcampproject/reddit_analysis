{
 "cells": [
  {
   "cell_type": "code",
   "execution_count": 1,
   "id": "7963e924",
   "metadata": {},
   "outputs": [],
   "source": [
    "import pandas as pd\n",
    "import matplotlib.pyplot as plt"
   ]
  },
  {
   "cell_type": "code",
   "execution_count": 2,
   "id": "9ce68da8",
   "metadata": {},
   "outputs": [],
   "source": [
    "df = pd.read_pickle(\"WSBSubmissonsdataActual.pkl\")"
   ]
  },
  {
   "cell_type": "markdown",
   "id": "53065e10",
   "metadata": {},
   "source": [
    "We make an outputs dataframe, and set a \"principal\" score, which is the principal axis from the PCA on these 3 features."
   ]
  },
  {
   "cell_type": "code",
   "execution_count": 4,
   "id": "a48cafd4",
   "metadata": {},
   "outputs": [],
   "source": [
    "outputs = df[['score', 'num_comments', 'upvote_ratio']].astype(float)"
   ]
  },
  {
   "cell_type": "code",
   "execution_count": 5,
   "id": "008ba162",
   "metadata": {},
   "outputs": [],
   "source": [
    "outputs[\"norm_score\"] = (outputs.score - outputs.score.mean()) / outputs.score.std()\n",
    "outputs[\"norm_comments\"] = (outputs.num_comments - outputs.num_comments.mean()) / outputs.num_comments.std()\n",
    "outputs[\"norm_ratio\"] = (outputs.upvote_ratio - outputs.upvote_ratio.mean()) / outputs.upvote_ratio.std()"
   ]
  },
  {
   "cell_type": "code",
   "execution_count": 6,
   "id": "f7d93149",
   "metadata": {},
   "outputs": [],
   "source": [
    "outputs[\"principal\"] = outputs.norm_score * 0.66154162 + outputs.norm_comments * 0.60287027 + outputs.norm_ratio * 0.44599341"
   ]
  },
  {
   "cell_type": "code",
   "execution_count": 8,
   "id": "ea4f8de8",
   "metadata": {},
   "outputs": [],
   "source": [
    "df[\"principal\"] = outputs.principal"
   ]
  },
  {
   "cell_type": "markdown",
   "id": "cd98f129",
   "metadata": {},
   "source": [
    "We shrink the time values because they give my computer a headache."
   ]
  },
  {
   "cell_type": "code",
   "execution_count": 9,
   "id": "67fb301b",
   "metadata": {},
   "outputs": [],
   "source": [
    "df['small_times'] = df.time_created/1000000"
   ]
  },
  {
   "cell_type": "markdown",
   "id": "c7113fb2",
   "metadata": {},
   "source": [
    "We regress against time, because we don't want to be biased towards older posts."
   ]
  },
  {
   "cell_type": "code",
   "execution_count": 10,
   "id": "918882e4",
   "metadata": {},
   "outputs": [
    {
     "data": {
      "text/plain": [
       "LinearRegression()"
      ]
     },
     "execution_count": 10,
     "metadata": {},
     "output_type": "execute_result"
    }
   ],
   "source": [
    "from sklearn.linear_model import LinearRegression\n",
    "\n",
    "slr = LinearRegression(copy_X = True)\n",
    "\n",
    "slr.fit(df['small_times'].values.reshape(-1,1), df['principal'].values)"
   ]
  },
  {
   "cell_type": "markdown",
   "id": "5eb8f4ab",
   "metadata": {},
   "source": [
    "Our final output variable is called popularity_score."
   ]
  },
  {
   "cell_type": "code",
   "execution_count": 12,
   "id": "ecdeb6b0",
   "metadata": {},
   "outputs": [],
   "source": [
    "b0 = slr.intercept_\n",
    "b1 = slr.coef_[0]\n",
    "\n",
    "df['popularity_score'] = df.principal - b0 - b1 * df.small_times"
   ]
  },
  {
   "cell_type": "code",
   "execution_count": null,
   "id": "8128911d",
   "metadata": {},
   "outputs": [],
   "source": []
  }
 ],
 "metadata": {
  "kernelspec": {
   "display_name": "Python 3",
   "language": "python",
   "name": "python3"
  },
  "language_info": {
   "codemirror_mode": {
    "name": "ipython",
    "version": 3
   },
   "file_extension": ".py",
   "mimetype": "text/x-python",
   "name": "python",
   "nbconvert_exporter": "python",
   "pygments_lexer": "ipython3",
   "version": "3.8.8"
  }
 },
 "nbformat": 4,
 "nbformat_minor": 5
}
