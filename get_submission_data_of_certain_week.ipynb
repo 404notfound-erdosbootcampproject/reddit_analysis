{
 "cells": [
    {
   "cell_type": "markdown",
   "id": "0a46d790",
   "metadata": {},
   "source": [
    "# Get Submission Data"
   ]
  },
  {
   "cell_type": "markdown",
   "id": "4930f45a",
   "metadata": {},
   "source": [
    "We retrieve the top submissions from the past week in r/wallstreetbets."
   ]
  }
  {
   "cell_type": "code",
   "execution_count": 1,
   "metadata": {},
   "outputs": [],
   "source": [
    "#import packages\n",
    "\n",
    "import pandas as pd\n",
    "import praw"
   ]
  },
  {
   "cell_type": "code",
   "execution_count": 2,
   "metadata": {},
   "outputs": [],
   "source": [
    "#setup reddit account and subreddit\n",
    "\n",
    "reddit = praw.Reddit(client_id='', client_secret='', user_agent='',user_name='',password='')\n",
    "subreddit=reddit.subreddit('wallstreetbets')"
   ]
  },
  {
   "cell_type": "code",
   "execution_count": 3,
   "metadata": {},
   "outputs": [],
   "source": [
    "#create an empty dataframe \n",
    "\n",
    "WSBSubmissions=pd.DataFrame(columns=[\"id\",\"title\",\"body\",\"score\",\"time_created\",\"flair\",\"num_comments\",\"title_length\",\"body_length\",\"num_top_comments\"])"
   ]
  },
  {
   "cell_type": "code",
   "execution_count": 4,
   "metadata": {},
   "outputs": [],
   "source": [
    "#run this loop to save submission data into the dataframe\n",
    "\n",
    "for submission in subreddit.top('week'):\n",
    "    include_submission=type(submission.link_flair_text)==type(None) or submission.link_flair_text.lower().find('meme')==-1\n",
    "    if not include_submission:\n",
    "        continue\n",
    "\n",
    "    WSBSubmissions.loc[submission.id,\"id\"]=submission.id\n",
    "    WSBSubmissions.loc[submission.id,\"title\"]=submission.title.lower()\n",
    "    WSBSubmissions.loc[submission.id,\"body\"]=submission.selftext.lower()\n",
    "    WSBSubmissions.loc[submission.id,\"num_top_comments\"]=len(submission.comments)\n",
    "    WSBSubmissions.loc[submission.id,\"num_comments\"]=submission.num_comments \n",
    "    WSBSubmissions.loc[submission.id,\"score\"]=submission.score\n",
    "    WSBSubmissions.loc[submission.id,\"time_created\"]=submission.created_utc\n",
    "    WSBSubmissions.loc[submission.id,\"flair\"]=submission.link_flair_text\n",
    "    WSBSubmissions.loc[submission.id,\"upvote_ratio\"]=submission.upvote_ratio\n",
    "    WSBSubmissions.loc[submission.id,\"body_length\"]=len(submission.selftext)\n",
    "    WSBSubmissions.loc[submission.id,\"title_length\"]=len(submission.title)\n",
    "    \n"
   ]
  },
  {
   "cell_type": "code",
   "execution_count": 5,
   "metadata": {},
   "outputs": [
    {
     "data": {
      "text/html": [
       "<div>\n",
       "<style scoped>\n",
       "    .dataframe tbody tr th:only-of-type {\n",
       "        vertical-align: middle;\n",
       "    }\n",
       "\n",
       "    .dataframe tbody tr th {\n",
       "        vertical-align: top;\n",
       "    }\n",
       "\n",
       "    .dataframe thead th {\n",
       "        text-align: right;\n",
       "    }\n",
       "</style>\n",
       "<table border=\"1\" class=\"dataframe\">\n",
       "  <thead>\n",
       "    <tr style=\"text-align: right;\">\n",
       "      <th></th>\n",
       "      <th>id</th>\n",
       "      <th>title</th>\n",
       "      <th>body</th>\n",
       "      <th>score</th>\n",
       "      <th>time_created</th>\n",
       "      <th>flair</th>\n",
       "      <th>num_comments</th>\n",
       "      <th>title_length</th>\n",
       "      <th>body_length</th>\n",
       "      <th>num_top_comments</th>\n",
       "      <th>upvote_ratio</th>\n",
       "    </tr>\n",
       "  </thead>\n",
       "  <tbody>\n",
       "    <tr>\n",
       "      <th>nlhn7y</th>\n",
       "      <td>nlhn7y</td>\n",
       "      <td>gamestop, amc short sellers lost $754 million ...</td>\n",
       "      <td></td>\n",
       "      <td>59579</td>\n",
       "      <td>1622037379.0</td>\n",
       "      <td>News</td>\n",
       "      <td>2695</td>\n",
       "      <td>67</td>\n",
       "      <td>0</td>\n",
       "      <td>97</td>\n",
       "      <td>0.89</td>\n",
       "    </tr>\n",
       "    <tr>\n",
       "      <th>nlnxr0</th>\n",
       "      <td>nlnxr0</td>\n",
       "      <td>gamestop short sellers have lost over 6.5 bill...</td>\n",
       "      <td></td>\n",
       "      <td>53210</td>\n",
       "      <td>1622053757.0</td>\n",
       "      <td>News</td>\n",
       "      <td>2265</td>\n",
       "      <td>68</td>\n",
       "      <td>0</td>\n",
       "      <td>103</td>\n",
       "      <td>0.92</td>\n",
       "    </tr>\n",
       "    <tr>\n",
       "      <th>nma5ro</th>\n",
       "      <td>nma5ro</td>\n",
       "      <td>$10k ----&gt; $364,000 4 trades in 3 days</td>\n",
       "      <td></td>\n",
       "      <td>37735</td>\n",
       "      <td>1622129836.0</td>\n",
       "      <td>Gain</td>\n",
       "      <td>2534</td>\n",
       "      <td>38</td>\n",
       "      <td>0</td>\n",
       "      <td>62</td>\n",
       "      <td>0.87</td>\n",
       "    </tr>\n",
       "    <tr>\n",
       "      <th>nmk9dk</th>\n",
       "      <td>nmk9dk</td>\n",
       "      <td>amc’s four-day surge slaps short sellers with ...</td>\n",
       "      <td></td>\n",
       "      <td>36890</td>\n",
       "      <td>1622157219.0</td>\n",
       "      <td>News</td>\n",
       "      <td>2225</td>\n",
       "      <td>63</td>\n",
       "      <td>0</td>\n",
       "      <td>127</td>\n",
       "      <td>0.90</td>\n",
       "    </tr>\n",
       "    <tr>\n",
       "      <th>nij8va</th>\n",
       "      <td>nij8va</td>\n",
       "      <td>some call me a prostitute. i prefer to be call...</td>\n",
       "      <td></td>\n",
       "      <td>30752</td>\n",
       "      <td>1621692024.0</td>\n",
       "      <td>Gain</td>\n",
       "      <td>1101</td>\n",
       "      <td>57</td>\n",
       "      <td>0</td>\n",
       "      <td>208</td>\n",
       "      <td>0.86</td>\n",
       "    </tr>\n",
       "  </tbody>\n",
       "</table>\n",
       "</div>"
      ],
      "text/plain": [
       "            id                                              title body  score  \\\n",
       "nlhn7y  nlhn7y  gamestop, amc short sellers lost $754 million ...       59579   \n",
       "nlnxr0  nlnxr0  gamestop short sellers have lost over 6.5 bill...       53210   \n",
       "nma5ro  nma5ro             $10k ----> $364,000 4 trades in 3 days       37735   \n",
       "nmk9dk  nmk9dk  amc’s four-day surge slaps short sellers with ...       36890   \n",
       "nij8va  nij8va  some call me a prostitute. i prefer to be call...       30752   \n",
       "\n",
       "        time_created flair num_comments title_length body_length  \\\n",
       "nlhn7y  1622037379.0  News         2695           67           0   \n",
       "nlnxr0  1622053757.0  News         2265           68           0   \n",
       "nma5ro  1622129836.0  Gain         2534           38           0   \n",
       "nmk9dk  1622157219.0  News         2225           63           0   \n",
       "nij8va  1621692024.0  Gain         1101           57           0   \n",
       "\n",
       "       num_top_comments  upvote_ratio  \n",
       "nlhn7y               97          0.89  \n",
       "nlnxr0              103          0.92  \n",
       "nma5ro               62          0.87  \n",
       "nmk9dk              127          0.90  \n",
       "nij8va              208          0.86  "
      ]
     },
     "execution_count": 5,
     "metadata": {},
     "output_type": "execute_result"
    }
   ],
   "source": [
    "WSBSubmissions.head()"
   ]
  },
  {
   "cell_type": "code",
   "execution_count": 6,
   "metadata": {},
   "outputs": [],
   "source": [
    "#save the dataframe to a pickle file\n",
    "\n",
    "WSBSubmissions.to_pickle(\"WSB_week.pkl\")"
   ]
  }
 ],
 "metadata": {
  "kernelspec": {
   "display_name": "Python 3",
   "language": "python",
   "name": "python3"
  },
  "language_info": {
   "codemirror_mode": {
    "name": "ipython",
    "version": 3
   },
   "file_extension": ".py",
   "mimetype": "text/x-python",
   "name": "python",
   "nbconvert_exporter": "python",
   "pygments_lexer": "ipython3",
   "version": "3.8.5"
  }
 },
 "nbformat": 4,
 "nbformat_minor": 4
}
