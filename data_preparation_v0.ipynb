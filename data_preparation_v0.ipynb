{
 "cells": [
  {
   "cell_type": "code",
   "execution_count": 1,
   "metadata": {},
   "outputs": [],
   "source": [
    "import pandas as pd\n",
    "import numpy as np\n",
    "import matplotlib.pyplot as plt\n",
    "from vaderSentiment.vaderSentiment import SentimentIntensityAnalyzer\n",
    "import datetime as dt\n",
    "import seaborn as sns\n",
    "\n",
    "## This sets the plot style\n",
    "## to have a grid on a white background\n",
    "sns.set_style(\"whitegrid\")\n",
    "pd.set_option('max_colwidth',100)\n",
    "pd.set_option('max_columns',20)\n"
   ]
  },
  {
   "cell_type": "code",
   "execution_count": null,
   "metadata": {},
   "outputs": [],
   "source": []
  },
  {
   "cell_type": "code",
   "execution_count": 2,
   "metadata": {},
   "outputs": [
    {
     "name": "stdout",
     "output_type": "stream",
     "text": [
      "[(141, 10), (61515, 7)]\n",
      "Index(['id', 'title', 'body', 'score', 'time_created', 'flair', 'num_comments',\n",
      "       'hold_score', 'subjectivity', 'polarity'],\n",
      "      dtype='object')\n",
      "Index(['id', 'parent_id', 'time_created', 'body', 'score',\n",
      "       'compound_sentiment', 'time_since_sub'],\n",
      "      dtype='object')\n"
     ]
    }
   ],
   "source": [
    "Comments = pd.read_pickle(\"Commentsdata.pkl\")\n",
    "Submissions = pd.read_pickle(\"WSBSubmissonsdata.pkl\")\n",
    "print([Submissions.shape, Comments.shape])\n",
    "print(Submissions.columns)\n",
    "print(Comments.columns)"
   ]
  },
  {
   "cell_type": "code",
   "execution_count": 3,
   "metadata": {},
   "outputs": [],
   "source": [
    "Comments['body']=Comments['body'].astype('str')\n",
    "Submissions[['title','body']]= Submissions[['title','body']].astype('str')\n",
    "Comments['score']=Comments['score'].astype('float')\n",
    "Submissions['score']= Submissions['score'].astype('float')\n",
    "Submissions['title_len'] = Submissions.title.apply(len)\n",
    "Submissions['body_len'] = Submissions.body.apply(len)\n",
    "Comments['body_len'] = Comments.body.apply(len)\n",
    "Submissions['date'] = pd.to_datetime(Submissions['time_created'], utc=True, unit='s')\n",
    "Comments['date'] = pd.to_datetime(Comments['time_created'], utc=True, unit='s')\n",
    "\n"
   ]
  },
  {
   "cell_type": "code",
   "execution_count": 23,
   "metadata": {},
   "outputs": [],
   "source": [
    "t = []\n",
    "for time in Submissions['date']:\n",
    "    t.append(float(time.hour*60 + time.minute))\n",
    "Submissions['time'] = t"
   ]
  },
  {
   "cell_type": "code",
   "execution_count": 6,
   "metadata": {},
   "outputs": [],
   "source": [
    "cs = []\n",
    "for row in range(len(Submissions)):\n",
    "    if Submissions['body'].iloc[row] and Submissions['title'].iloc[row]:\n",
    "        content = Submissions['title'].iloc[row] + ' ' + Submissions['body'].iloc[row]\n",
    "    elif Submissions['title'].iloc[row]:\n",
    "        content = Submissions['title'].iloc[row]\n",
    "    elif Submissions['body'].iloc[row]:\n",
    "        content = Submissions['body'].iloc[row]\n",
    "    else:\n",
    "        content = ''\n",
    "    cs.append(analyzer.polarity_scores(content)['compound'])\n",
    "Submissions['compound_score'] = cs"
   ]
  },
  {
   "cell_type": "code",
   "execution_count": 32,
   "metadata": {},
   "outputs": [],
   "source": [
    "def num_early_comments(parent_id, wait_sec = 60*60):\n",
    "    sub_time = Submissions.loc[parent_id,'time_created']\n",
    "    return len(Comments[(Comments.parent_id == parent_id) & (Comments.time_created - sub_time < wait_sec)])"
   ]
  },
  {
   "cell_type": "code",
   "execution_count": 44,
   "metadata": {},
   "outputs": [],
   "source": [
    "count = []\n",
    "\n",
    "for row in range(len(Submissions)):\n",
    "    count.append(num_early_comments(Submissions['id'].iloc[row], wait_sec = 10*60))\n",
    "Submissions['num_early_comments'] = count"
   ]
  },
  {
   "cell_type": "code",
   "execution_count": null,
   "metadata": {},
   "outputs": [],
   "source": [
    "features = ['title_len','body_len','time','compound_score','num_early_comments']\n",
    "popularity = ['score']"
   ]
  },
  {
   "cell_type": "code",
   "execution_count": null,
   "metadata": {},
   "outputs": [],
   "source": []
  },
  {
   "cell_type": "code",
   "execution_count": 57,
   "metadata": {},
   "outputs": [],
   "source": [
    "#Submissions.set_index([\"flair\", \"id\"]).count(level = 'flair')"
   ]
  },
  {
   "cell_type": "code",
   "execution_count": null,
   "metadata": {},
   "outputs": [],
   "source": []
  },
  {
   "cell_type": "code",
   "execution_count": null,
   "metadata": {},
   "outputs": [],
   "source": []
  },
  {
   "cell_type": "code",
   "execution_count": null,
   "metadata": {},
   "outputs": [],
   "source": []
  },
  {
   "cell_type": "code",
   "execution_count": null,
   "metadata": {
    "scrolled": true
   },
   "outputs": [],
   "source": []
  },
  {
   "cell_type": "code",
   "execution_count": null,
   "metadata": {},
   "outputs": [],
   "source": []
  },
  {
   "cell_type": "code",
   "execution_count": null,
   "metadata": {},
   "outputs": [],
   "source": [
    "\n",
    "    "
   ]
  },
  {
   "cell_type": "code",
   "execution_count": null,
   "metadata": {},
   "outputs": [],
   "source": []
  },
  {
   "cell_type": "code",
   "execution_count": null,
   "metadata": {},
   "outputs": [],
   "source": []
  },
  {
   "cell_type": "code",
   "execution_count": null,
   "metadata": {},
   "outputs": [],
   "source": []
  },
  {
   "cell_type": "code",
   "execution_count": null,
   "metadata": {},
   "outputs": [],
   "source": []
  },
  {
   "cell_type": "code",
   "execution_count": null,
   "metadata": {},
   "outputs": [],
   "source": []
  },
  {
   "cell_type": "code",
   "execution_count": null,
   "metadata": {},
   "outputs": [],
   "source": []
  },
  {
   "cell_type": "code",
   "execution_count": null,
   "metadata": {},
   "outputs": [],
   "source": []
  },
  {
   "cell_type": "code",
   "execution_count": null,
   "metadata": {},
   "outputs": [],
   "source": [
    "#old ones. Do not run!"
   ]
  },
  {
   "cell_type": "code",
   "execution_count": null,
   "metadata": {},
   "outputs": [],
   "source": [
    "analyzer = SentimentIntensityAnalyzer()\n",
    "cs = []\n",
    "for row in range(len(Comments)):\n",
    "    cs.append(analyzer.polarity_scores(Comments['body'].iloc[row])['compound'])\n",
    "Comments['compound_score'] = cs\n",
    "\n",
    "\n"
   ]
  },
  {
   "cell_type": "code",
   "execution_count": null,
   "metadata": {},
   "outputs": [],
   "source": [
    "for a,s in Comments.groupby(['parent_id']):\n",
    "    Submissions.loc[a, 'num_selected_comments'] = len(s)\n",
    "    Submissions.loc[a, 'cs_selected_comments'] = s.compound_score.mean()#average compound score of selected comments\n",
    "Submissions[['num_comments', 'num_selected_comments']].head() "
   ]
  },
  {
   "cell_type": "code",
   "execution_count": null,
   "metadata": {},
   "outputs": [],
   "source": [
    "plt.figure(figsize = (8,5))\n",
    "num = 1\n",
    "for a,s in Comments.groupby(['parent_id']):\n",
    "    if num <= 3:\n",
    "       # print(a)\n",
    "       # print(type(s))\n",
    "        plt.subplot(3,1,num)\n",
    "        plt.hist(s.time_created.astype(int), bins = 20, density=1, label = a)\n",
    "        plt.legend(fontsize = 14,loc = 1)\n",
    "        plt.xlabel(\"time_created\",fontsize=16) \n",
    "        num += 1\n",
    "    else:\n",
    "        break\n",
    "            \n"
   ]
  },
  {
   "cell_type": "code",
   "execution_count": null,
   "metadata": {},
   "outputs": [],
   "source": []
  },
  {
   "cell_type": "code",
   "execution_count": null,
   "metadata": {},
   "outputs": [],
   "source": []
  },
  {
   "cell_type": "code",
   "execution_count": null,
   "metadata": {},
   "outputs": [],
   "source": []
  }
 ],
 "metadata": {
  "kernelspec": {
   "display_name": "Python 3",
   "language": "python",
   "name": "python3"
  },
  "language_info": {
   "codemirror_mode": {
    "name": "ipython",
    "version": 3
   },
   "file_extension": ".py",
   "mimetype": "text/x-python",
   "name": "python",
   "nbconvert_exporter": "python",
   "pygments_lexer": "ipython3",
   "version": "3.8.5"
  }
 },
 "nbformat": 4,
 "nbformat_minor": 4
}
