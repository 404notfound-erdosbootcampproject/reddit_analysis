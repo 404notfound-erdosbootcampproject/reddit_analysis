{
 "cells": [
  {
   "cell_type": "code",
   "execution_count": 1,
   "metadata": {},
   "outputs": [],
   "source": [
    "import pandas as pd\n",
    "import numpy as np\n",
    "import matplotlib.pyplot as plt\n",
    "from vaderSentiment.vaderSentiment import SentimentIntensityAnalyzer\n",
    "import datetime as dt\n",
    "import seaborn as sns\n",
    "\n",
    "## This sets the plot style\n",
    "## to have a grid on a white background\n",
    "sns.set_style(\"whitegrid\")\n",
    "pd.set_option('max_colwidth',100)\n",
    "pd.set_option('max_columns',20)"
   ]
  },
  {
   "cell_type": "code",
   "execution_count": 2,
   "metadata": {},
   "outputs": [],
   "source": [
    "Comments = pd.read_csv(\"train_test_data.csv\")"
   ]
  },
  {
   "cell_type": "code",
   "execution_count": 3,
   "metadata": {},
   "outputs": [
    {
     "data": {
      "text/html": [
       "<div>\n",
       "<style scoped>\n",
       "    .dataframe tbody tr th:only-of-type {\n",
       "        vertical-align: middle;\n",
       "    }\n",
       "\n",
       "    .dataframe tbody tr th {\n",
       "        vertical-align: top;\n",
       "    }\n",
       "\n",
       "    .dataframe thead th {\n",
       "        text-align: right;\n",
       "    }\n",
       "</style>\n",
       "<table border=\"1\" class=\"dataframe\">\n",
       "  <thead>\n",
       "    <tr style=\"text-align: right;\">\n",
       "      <th></th>\n",
       "      <th>Unnamed: 0</th>\n",
       "      <th>title_len</th>\n",
       "      <th>body_len</th>\n",
       "      <th>time</th>\n",
       "      <th>compound_score</th>\n",
       "      <th>num_early_comments</th>\n",
       "      <th>score</th>\n",
       "    </tr>\n",
       "  </thead>\n",
       "  <tbody>\n",
       "    <tr>\n",
       "      <th>0</th>\n",
       "      <td>l8rf4k</td>\n",
       "      <td>22</td>\n",
       "      <td>0</td>\n",
       "      <td>1080.0</td>\n",
       "      <td>0.0000</td>\n",
       "      <td>28</td>\n",
       "      <td>413085.0</td>\n",
       "    </tr>\n",
       "    <tr>\n",
       "      <th>1</th>\n",
       "      <td>l6wu59</td>\n",
       "      <td>38</td>\n",
       "      <td>0</td>\n",
       "      <td>820.0</td>\n",
       "      <td>0.4019</td>\n",
       "      <td>5</td>\n",
       "      <td>315560.0</td>\n",
       "    </tr>\n",
       "    <tr>\n",
       "      <th>2</th>\n",
       "      <td>l78uct</td>\n",
       "      <td>29</td>\n",
       "      <td>0</td>\n",
       "      <td>1266.0</td>\n",
       "      <td>0.2732</td>\n",
       "      <td>181</td>\n",
       "      <td>280976.0</td>\n",
       "    </tr>\n",
       "    <tr>\n",
       "      <th>3</th>\n",
       "      <td>l846a1</td>\n",
       "      <td>36</td>\n",
       "      <td>0</td>\n",
       "      <td>1264.0</td>\n",
       "      <td>0.2732</td>\n",
       "      <td>259</td>\n",
       "      <td>252031.0</td>\n",
       "    </tr>\n",
       "    <tr>\n",
       "      <th>4</th>\n",
       "      <td>l6x130</td>\n",
       "      <td>291</td>\n",
       "      <td>183</td>\n",
       "      <td>829.0</td>\n",
       "      <td>-0.5267</td>\n",
       "      <td>5</td>\n",
       "      <td>222152.0</td>\n",
       "    </tr>\n",
       "  </tbody>\n",
       "</table>\n",
       "</div>"
      ],
      "text/plain": [
       "  Unnamed: 0  title_len  body_len    time  compound_score  num_early_comments  \\\n",
       "0     l8rf4k         22         0  1080.0          0.0000                  28   \n",
       "1     l6wu59         38         0   820.0          0.4019                   5   \n",
       "2     l78uct         29         0  1266.0          0.2732                 181   \n",
       "3     l846a1         36         0  1264.0          0.2732                 259   \n",
       "4     l6x130        291       183   829.0         -0.5267                   5   \n",
       "\n",
       "      score  \n",
       "0  413085.0  \n",
       "1  315560.0  \n",
       "2  280976.0  \n",
       "3  252031.0  \n",
       "4  222152.0  "
      ]
     },
     "execution_count": 3,
     "metadata": {},
     "output_type": "execute_result"
    }
   ],
   "source": [
    "Comments.head()"
   ]
  },
  {
   "cell_type": "code",
   "execution_count": 4,
   "metadata": {},
   "outputs": [],
   "source": [
    "Comments_copy = Comments.copy()"
   ]
  },
  {
   "cell_type": "code",
   "execution_count": 5,
   "metadata": {},
   "outputs": [],
   "source": [
    "Comments_train = Comments_copy.sample(frac = .80, random_state = 614)\n",
    "Comments_test = Comments_copy.drop(Comments_train.index)"
   ]
  },
  {
   "cell_type": "code",
   "execution_count": 6,
   "metadata": {},
   "outputs": [
    {
     "data": {
      "text/html": [
       "<div>\n",
       "<style scoped>\n",
       "    .dataframe tbody tr th:only-of-type {\n",
       "        vertical-align: middle;\n",
       "    }\n",
       "\n",
       "    .dataframe tbody tr th {\n",
       "        vertical-align: top;\n",
       "    }\n",
       "\n",
       "    .dataframe thead th {\n",
       "        text-align: right;\n",
       "    }\n",
       "</style>\n",
       "<table border=\"1\" class=\"dataframe\">\n",
       "  <thead>\n",
       "    <tr style=\"text-align: right;\">\n",
       "      <th></th>\n",
       "      <th>Unnamed: 0</th>\n",
       "      <th>title_len</th>\n",
       "      <th>body_len</th>\n",
       "      <th>time</th>\n",
       "      <th>compound_score</th>\n",
       "      <th>num_early_comments</th>\n",
       "      <th>score</th>\n",
       "    </tr>\n",
       "  </thead>\n",
       "  <tbody>\n",
       "    <tr>\n",
       "      <th>36</th>\n",
       "      <td>lbykxg</td>\n",
       "      <td>80</td>\n",
       "      <td>0</td>\n",
       "      <td>1278.0</td>\n",
       "      <td>0.2732</td>\n",
       "      <td>173</td>\n",
       "      <td>142799.0</td>\n",
       "    </tr>\n",
       "    <tr>\n",
       "      <th>57</th>\n",
       "      <td>lzqgxq</td>\n",
       "      <td>73</td>\n",
       "      <td>0</td>\n",
       "      <td>795.0</td>\n",
       "      <td>0.5399</td>\n",
       "      <td>17</td>\n",
       "      <td>119966.0</td>\n",
       "    </tr>\n",
       "    <tr>\n",
       "      <th>83</th>\n",
       "      <td>mzfpb3</td>\n",
       "      <td>35</td>\n",
       "      <td>0</td>\n",
       "      <td>221.0</td>\n",
       "      <td>0.0000</td>\n",
       "      <td>8</td>\n",
       "      <td>30853.0</td>\n",
       "    </tr>\n",
       "    <tr>\n",
       "      <th>31</th>\n",
       "      <td>lt7v4w</td>\n",
       "      <td>36</td>\n",
       "      <td>0</td>\n",
       "      <td>1267.0</td>\n",
       "      <td>0.2732</td>\n",
       "      <td>169</td>\n",
       "      <td>145294.0</td>\n",
       "    </tr>\n",
       "    <tr>\n",
       "      <th>84</th>\n",
       "      <td>na55rn</td>\n",
       "      <td>13</td>\n",
       "      <td>0</td>\n",
       "      <td>1159.0</td>\n",
       "      <td>0.0000</td>\n",
       "      <td>3</td>\n",
       "      <td>30674.0</td>\n",
       "    </tr>\n",
       "  </tbody>\n",
       "</table>\n",
       "</div>"
      ],
      "text/plain": [
       "   Unnamed: 0  title_len  body_len    time  compound_score  \\\n",
       "36     lbykxg         80         0  1278.0          0.2732   \n",
       "57     lzqgxq         73         0   795.0          0.5399   \n",
       "83     mzfpb3         35         0   221.0          0.0000   \n",
       "31     lt7v4w         36         0  1267.0          0.2732   \n",
       "84     na55rn         13         0  1159.0          0.0000   \n",
       "\n",
       "    num_early_comments     score  \n",
       "36                 173  142799.0  \n",
       "57                  17  119966.0  \n",
       "83                   8   30853.0  \n",
       "31                 169  145294.0  \n",
       "84                   3   30674.0  "
      ]
     },
     "execution_count": 6,
     "metadata": {},
     "output_type": "execute_result"
    }
   ],
   "source": [
    "Comments_train.head()"
   ]
  },
  {
   "cell_type": "code",
   "execution_count": 7,
   "metadata": {},
   "outputs": [
    {
     "data": {
      "text/plain": [
       "body_len             -0.262068\n",
       "compound_score        0.018781\n",
       "title_len             0.161111\n",
       "time                  0.264523\n",
       "num_early_comments    0.446769\n",
       "score                 1.000000\n",
       "Name: score, dtype: float64"
      ]
     },
     "execution_count": 7,
     "metadata": {},
     "output_type": "execute_result"
    }
   ],
   "source": [
    "Comments_train.corr()['score'].sort_values()"
   ]
  },
  {
   "cell_type": "code",
   "execution_count": 8,
   "metadata": {},
   "outputs": [],
   "source": [
    "## make X\n",
    "X_train = np.ones([len(Comments_train),6])\n",
    "X_train[:,1] = np.array(Comments_train.title_len)\n",
    "X_train[:,2] = np.array(Comments_train.body_len)\n",
    "X_train[:,3] = np.array(Comments_train.time)\n",
    "X_train[:,4] = np.array(Comments_train.compound_score)\n",
    "X_train[:,5] = np.array(Comments_train.num_early_comments)"
   ]
  },
  {
   "cell_type": "code",
   "execution_count": 9,
   "metadata": {},
   "outputs": [],
   "source": [
    "## Make y\n",
    "y_train = np.array(Comments_train.score)\n",
    "\n",
    "## Calculate beta_hat\n",
    "beta_hat = np.linalg.inv(X_train.transpose().dot(X_train)).dot(X_train.transpose()).dot(y_train)"
   ]
  },
  {
   "cell_type": "code",
   "execution_count": 10,
   "metadata": {},
   "outputs": [
    {
     "name": "stdout",
     "output_type": "stream",
     "text": [
      "beta_0_hat is 30430.08\n",
      "beta_1_hat is 325.73\n",
      "beta_2_hat is -13.86\n",
      "beta_3_hat is 25.19\n",
      "beta_4_hat is 6689.28\n",
      "beta_5_hat is 600.7\n"
     ]
    }
   ],
   "source": [
    "print(\"beta_0_hat is\",np.round(beta_hat[0],2))\n",
    "print(\"beta_1_hat is\",np.round(beta_hat[1],2))\n",
    "print(\"beta_2_hat is\",np.round(beta_hat[2],2))\n",
    "print(\"beta_3_hat is\",np.round(beta_hat[3],2))\n",
    "print(\"beta_4_hat is\",np.round(beta_hat[4],2))\n",
    "print(\"beta_5_hat is\",np.round(beta_hat[5],2))"
   ]
  },
  {
   "cell_type": "markdown",
   "metadata": {},
   "source": [
    "score = (30430.08) + 325.73* title_len + -13.86* body_len + 25.19*time + 6689.28＊compound_score + 600.7＊num_early_comments"
   ]
  },
  {
   "cell_type": "code",
   "execution_count": 11,
   "metadata": {},
   "outputs": [],
   "source": [
    "from sklearn.linear_model import LinearRegression\n",
    "import statsmodels.api as sm"
   ]
  },
  {
   "cell_type": "code",
   "execution_count": 12,
   "metadata": {},
   "outputs": [
    {
     "name": "stdout",
     "output_type": "stream",
     "text": [
      "                            OLS Regression Results                            \n",
      "==============================================================================\n",
      "Dep. Variable:                  score   R-squared:                       0.314\n",
      "Model:                            OLS   Adj. R-squared:                  0.282\n",
      "Method:                 Least Squares   F-statistic:                     9.787\n",
      "Date:                Thu, 27 May 2021   Prob (F-statistic):           1.01e-07\n",
      "Time:                        00:31:52   Log-Likelihood:                -1410.0\n",
      "No. Observations:                 113   AIC:                             2832.\n",
      "Df Residuals:                     107   BIC:                             2848.\n",
      "Df Model:                           5                                         \n",
      "Covariance Type:            nonrobust                                         \n",
      "======================================================================================\n",
      "                         coef    std err          t      P>|t|      [0.025      0.975]\n",
      "--------------------------------------------------------------------------------------\n",
      "const               3.043e+04   1.81e+04      1.680      0.096   -5470.348    6.63e+04\n",
      "title_len            325.7261    120.598      2.701      0.008      86.654     564.798\n",
      "body_len             -13.8612      5.495     -2.522      0.013     -24.755      -2.968\n",
      "time                  25.1924     15.687      1.606      0.111      -5.904      56.289\n",
      "compound_score      6689.2817   1.32e+04      0.507      0.613   -1.95e+04    3.28e+04\n",
      "num_early_comments   600.7014    120.164      4.999      0.000     362.490     838.913\n",
      "==============================================================================\n",
      "Omnibus:                       40.539   Durbin-Watson:                   2.089\n",
      "Prob(Omnibus):                  0.000   Jarque-Bera (JB):              132.517\n",
      "Skew:                           1.229   Prob(JB):                     1.68e-29\n",
      "Kurtosis:                       7.701   Cond. No.                     3.73e+03\n",
      "==============================================================================\n",
      "\n",
      "Warnings:\n",
      "[1] Standard Errors assume that the covariance matrix of the errors is correctly specified.\n",
      "[2] The condition number is large, 3.73e+03. This might indicate that there are\n",
      "strong multicollinearity or other numerical problems.\n"
     ]
    }
   ],
   "source": [
    "fit = sm.OLS(Comments_train['score'],sm.add_constant(Comments_train[['title_len','body_len','time','compound_score','num_early_comments']])).fit()\n",
    "\n",
    "print(fit.summary())"
   ]
  },
  {
   "cell_type": "code",
   "execution_count": 13,
   "metadata": {},
   "outputs": [
    {
     "data": {
      "text/plain": [
       "LinearRegression()"
      ]
     },
     "execution_count": 13,
     "metadata": {},
     "output_type": "execute_result"
    }
   ],
   "source": [
    "reg = LinearRegression(copy_X = True)\n",
    "\n",
    "reg.fit(Comments_train[['title_len','body_len','time','compound_score','num_early_comments']],Comments_train['score'])"
   ]
  },
  {
   "cell_type": "code",
   "execution_count": 14,
   "metadata": {},
   "outputs": [
    {
     "name": "stdout",
     "output_type": "stream",
     "text": [
      "beta_0_hat is 30430.08\n",
      "beta_1_hat is 325.73\n",
      "beta_2_hat is -13.86\n",
      "beta_3_hat is 25.19\n",
      "beta_4_hat is 6689.28\n",
      "beta_5_hat is 600.7\n"
     ]
    }
   ],
   "source": [
    "print(\"beta_0_hat is\",np.round(reg.intercept_,2))\n",
    "print(\"beta_1_hat is\",np.round(reg.coef_[0],2))\n",
    "print(\"beta_2_hat is\",np.round(reg.coef_[1],2))\n",
    "print(\"beta_3_hat is\",np.round(reg.coef_[2],2))\n",
    "print(\"beta_4_hat is\",np.round(reg.coef_[3],2))\n",
    "print(\"beta_5_hat is\",np.round(reg.coef_[4],2))"
   ]
  },
  {
   "cell_type": "markdown",
   "metadata": {},
   "source": [
    "score = (30430.08) + 325.73* title_len + -13.86* body_len + 25.19*time + 6689.28＊compound_score + 600.7＊num_early_comments"
   ]
  },
  {
   "cell_type": "code",
   "execution_count": 24,
   "metadata": {},
   "outputs": [
    {
     "name": "stdout",
     "output_type": "stream",
     "text": [
      "The training MSE is 4030808097.4594727\n"
     ]
    }
   ],
   "source": [
    "print(\"The training MSE is\", np.sum(np.power(fit.resid,2))/len(Comments_train))"
   ]
  },
  {
   "cell_type": "code",
   "execution_count": 17,
   "metadata": {},
   "outputs": [
    {
     "data": {
      "image/png": "[encoded data removed]",
      "text/plain": [
       "<Figure size 360x288 with 1 Axes>"
      ]
     },
     "metadata": {},
     "output_type": "display_data"
    }
   ],
   "source": [
    "pred = reg.predict(Comments_train[['title_len','body_len','time','compound_score','num_early_comments']])\n",
    "res = Comments_train['score'] - pred\n",
    "plt.figure(figsize = (5,4))\n",
    "\n",
    "plt.scatter(pred,res)\n",
    "\n",
    "plt.xlabel(\"Predicted Values\", fontsize=16)\n",
    "plt.ylabel(\"Residuals\", fontsize=16)\n",
    "\n",
    "plt.show()"
   ]
  },
  {
   "cell_type": "code",
   "execution_count": 18,
   "metadata": {},
   "outputs": [],
   "source": [
    "##Polynomial Regression with x1^2\n",
    "Comments_train['title_len_sq'] = Comments_train['title_len']**2"
   ]
  },
  {
   "cell_type": "code",
   "execution_count": 19,
   "metadata": {},
   "outputs": [
    {
     "data": {
      "text/plain": [
       "LinearRegression()"
      ]
     },
     "execution_count": 19,
     "metadata": {},
     "output_type": "execute_result"
    }
   ],
   "source": [
    "reg = LinearRegression(copy_X = True)\n",
    "\n",
    "reg.fit(Comments_train[['title_len','title_len_sq','body_len','time','compound_score','num_early_comments']], Comments_train['score'])"
   ]
  },
  {
   "cell_type": "code",
   "execution_count": 20,
   "metadata": {},
   "outputs": [
    {
     "name": "stdout",
     "output_type": "stream",
     "text": [
      "beta_0_hat is 50197.01\n",
      "beta_1_hat is -225.75\n",
      "beta_2_hat is 2.38\n",
      "beta_3_hat is -13.05\n",
      "beta_4_hat is 26.6\n",
      "beta_5_hat is 7988.35\n",
      "beta_6_hat is 587.45\n"
     ]
    }
   ],
   "source": [
    "print(\"beta_0_hat is\",np.round(reg.intercept_,2))\n",
    "print(\"beta_1_hat is\",np.round(reg.coef_[0],2))\n",
    "print(\"beta_2_hat is\",np.round(reg.coef_[1],2))\n",
    "print(\"beta_3_hat is\",np.round(reg.coef_[2],2))\n",
    "print(\"beta_4_hat is\",np.round(reg.coef_[3],2))\n",
    "print(\"beta_5_hat is\",np.round(reg.coef_[4],2))\n",
    "print(\"beta_6_hat is\",np.round(reg.coef_[5],2))"
   ]
  },
  {
   "cell_type": "markdown",
   "metadata": {},
   "source": [
    "score = (50197.01) + -225.75* title_len + 2.38 * title_len^2 + -13.05* body_len + 26.6*time + 7988.35＊compound_score + 587.45＊num_early_comments"
   ]
  },
  {
   "cell_type": "code",
   "execution_count": 25,
   "metadata": {},
   "outputs": [
    {
     "name": "stdout",
     "output_type": "stream",
     "text": [
      "The training MSE is 4030808097.4594727\n"
     ]
    }
   ],
   "source": [
    "print(\"The training MSE is\", np.sum(np.power(fit.resid,2))/len(Comments_train))"
   ]
  },
  {
   "cell_type": "code",
   "execution_count": 21,
   "metadata": {},
   "outputs": [],
   "source": [
    "# Let's examine the residual plot\n",
    "pred = reg.predict(Comments_train[['title_len','title_len_sq','body_len','time','compound_score','num_early_comments']])\n",
    "\n",
    "res = Comments_train['score'] - pred"
   ]
  },
  {
   "cell_type": "code",
   "execution_count": 22,
   "metadata": {},
   "outputs": [
    {
     "data": {
      "image/png": "[encoded data removed]",
      "text/plain": [
       "<Figure size 360x288 with 1 Axes>"
      ]
     },
     "metadata": {},
     "output_type": "display_data"
    }
   ],
   "source": [
    "plt.figure(figsize = (5,4))\n",
    "\n",
    "plt.scatter(pred,res)\n",
    "\n",
    "plt.xlabel(\"Predicted Values\", fontsize=16)\n",
    "plt.ylabel(\"Residuals\", fontsize=16)\n",
    "\n",
    "plt.show()"
   ]
  },
  {
   "cell_type": "code",
   "execution_count": 23,
   "metadata": {},
   "outputs": [],
   "source": [
    "plt.close()"
   ]
  },
  {
   "cell_type": "code",
   "execution_count": 27,
   "metadata": {},
   "outputs": [],
   "source": [
    "# First add the interaction term\n",
    "Comments_train['title_body'] = Comments_train['title_len']*Comments_train['body_len']"
   ]
  },
  {
   "cell_type": "code",
   "execution_count": 28,
   "metadata": {},
   "outputs": [
    {
     "data": {
      "text/plain": [
       "LinearRegression()"
      ]
     },
     "execution_count": 28,
     "metadata": {},
     "output_type": "execute_result"
    }
   ],
   "source": [
    "reg = LinearRegression(copy_X = True)\n",
    "\n",
    "reg.fit(Comments_train[['title_len','body_len','title_body','time','compound_score','num_early_comments']], Comments_train['score'])"
   ]
  },
  {
   "cell_type": "code",
   "execution_count": 33,
   "metadata": {},
   "outputs": [
    {
     "name": "stdout",
     "output_type": "stream",
     "text": [
      "beta_0_hat is 30147.41\n",
      "beta_1_hat is 327.88\n",
      "beta_2_hat is -12.97\n",
      "beta_3_hat is -0.01\n",
      "beta_4_hat is 25.33\n",
      "beta_5_hat is 6619.08\n",
      "beta_6_hat is 600.57\n"
     ]
    }
   ],
   "source": [
    "print(\"beta_0_hat is\",np.round(reg.intercept_,2))\n",
    "print(\"beta_1_hat is\",np.round(reg.coef_[0],2))\n",
    "print(\"beta_2_hat is\",np.round(reg.coef_[1],2))\n",
    "print(\"beta_3_hat is\",np.round(reg.coef_[2],2))\n",
    "print(\"beta_4_hat is\",np.round(reg.coef_[3],2))\n",
    "print(\"beta_5_hat is\",np.round(reg.coef_[4],2))\n",
    "print(\"beta_6_hat is\",np.round(reg.coef_[5],2))"
   ]
  },
  {
   "cell_type": "markdown",
   "metadata": {},
   "source": [
    "score = (30147.41) + 327.88* title_len + -12.97* body_len + -0.01* title_len*body_len+ 25.33*time + 6619.08*compound_score + 600.57＊num_early_comments"
   ]
  },
  {
   "cell_type": "code",
   "execution_count": 35,
   "metadata": {},
   "outputs": [],
   "source": [
    "# Let's re-examine the residual plot\n",
    "pred = reg.predict(Comments_train[['title_len','body_len','title_body','time','compound_score','num_early_comments']])\n",
    "\n",
    "res = Comments_train['score'] - pred"
   ]
  },
  {
   "cell_type": "code",
   "execution_count": 36,
   "metadata": {},
   "outputs": [
    {
     "data": {
      "image/png": "[encoded data removed]",
      "text/plain": [
       "<Figure size 360x288 with 1 Axes>"
      ]
     },
     "metadata": {},
     "output_type": "display_data"
    }
   ],
   "source": [
    "plt.figure(figsize = (5,4))\n",
    "\n",
    "plt.scatter(pred, res)\n",
    "\n",
    "plt.xlabel(\"Predicted Values\", fontsize=16)\n",
    "plt.ylabel(\"Residuals\", fontsize=16)\n",
    "\n",
    "plt.show()"
   ]
  }
 ],
 "metadata": {
  "kernelspec": {
   "display_name": "Python 3",
   "language": "python",
   "name": "python3"
  },
  "language_info": {
   "codemirror_mode": {
    "name": "ipython",
    "version": 3
   },
   "file_extension": ".py",
   "mimetype": "text/x-python",
   "name": "python",
   "nbconvert_exporter": "python",
   "pygments_lexer": "ipython3",
   "version": "3.8.3"
  }
 },
 "nbformat": 4,
 "nbformat_minor": 4
}
