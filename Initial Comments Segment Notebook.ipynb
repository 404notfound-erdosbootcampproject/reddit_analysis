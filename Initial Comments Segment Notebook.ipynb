{
 "cells": [
  {
   "cell_type": "markdown",
   "id": "0a46d790",
   "metadata": {},
   "source": [
    "# Counting Comment Frequency"
   ]
  },
  {
   "cell_type": "markdown",
   "id": "4930f45a",
   "metadata": {},
   "source": [
    "In this notebook, we take the subreddit data and count the number of comments in the first 3x minutes, where x is an integer."
   ]
  },
  {
   "cell_type": "code",
   "execution_count": null,
   "id": "a81d06b0",
   "metadata": {},
   "outputs": [],
   "source": [
    "## import packages\n",
    "\n",
    "import pandas as pd\n",
    "import matplotlib.pyplot as plt"
   ]
  },
  {
   "cell_type": "code",
   "execution_count": null,
   "id": "c31297ae",
   "metadata": {},
   "outputs": [],
   "source": [
    "## read data\n",
    "\n",
    "## these are the posts\n",
    "top_level = pd.read_pickle(\"WSBSubmissonsdata.pkl\") \n",
    "## these are the comments under the posts\n",
    "comm = pd.read_pickle(\"Commentsdata.pkl\")"
   ]
  },
  {
   "cell_type": "markdown",
   "id": "820e9383",
   "metadata": {},
   "source": [
    "After reading the post "
   ]
  },
  {
   "cell_type": "code",
   "execution_count": null,
   "id": "6c93c3ae",
   "metadata": {},
   "outputs": [],
   "source": [
    "## creates a list parents_list of all the parent posts \n",
    "\n",
    "parents = top_level[\"id\"]\n",
    "parents_list = list(parents)"
   ]
  },
  {
   "cell_type": "code",
   "execution_count": null,
   "id": "3484b7a3",
   "metadata": {},
   "outputs": [],
   "source": [
    "## format list of posts so that post id matches post ids in comment data\n",
    "\n",
    "for i in range(len(parents_list)):\n",
    "    parents_list[i] = \"t3_\" + parents_list[i]"
   ]
  },
  {
   "cell_type": "code",
   "execution_count": null,
   "id": "6e88db2e",
   "metadata": {},
   "outputs": [],
   "source": [
    "## creates a list children indexed by the parent posts which assigns to each parent all the comments under it\n",
    "\n",
    "children = {}\n",
    "for parent in parents_list:\n",
    "    child = comm[comm.parent_id == parent]\n",
    "    children[parent] = child"
   ]
  },
  {
   "cell_type": "code",
   "execution_count": null,
   "id": "0ee8652a",
   "metadata": {},
   "outputs": [],
   "source": [
    "## creates an array comms_in_first indexed by integers i that assigns to each i the num of comments in 3(i+1) mins \n",
    "\n",
    "comms_in_first = []\n",
    "for i in range(0,300):\n",
    "    comms_in_first.append({})\n",
    "    for parent in parents_list:\n",
    "        times = list(children[parent][\"time_created\"])\n",
    "        times.sort()\n",
    "        start = int(top_level[top_level.id == parent[3:]][\"time_created\"])\n",
    "        count = 0\n",
    "        for t in times:\n",
    "            if t - start <= 180 * (i+1):\n",
    "                count += 1\n",
    "        comms_in_first[i][parent[3:]] = count"
   ]
  },
  {
   "cell_type": "code",
   "execution_count": null,
   "id": "69ae49af",
   "metadata": {},
   "outputs": [],
   "source": [
    "## for each id in data frame, add comms_in_first[i] minutes data\n",
    "\n",
    "for i in range(0,300):\n",
    "    name = 'comms_in_first' + str(i+1)\n",
    "    top_level[name] = pd.Series(comms_in_first[i])"
   ]
  },
  {
   "cell_type": "code",
   "execution_count": null,
   "id": "f17d05f4",
   "metadata": {},
   "outputs": [],
   "source": [
    "## compute the correlation between comments in first 3i minutes and the total number of comments\n",
    "\n",
    "correlations = []\n",
    "for i in range(0,300):\n",
    "    name = 'comms_in_first' + str(i+1)\n",
    "    correlations.append(top_level[[name, 'num_comments']].astype(float).corr()[name]['num_comments'])"
   ]
  },
  {
   "cell_type": "code",
   "execution_count": null,
   "id": "6128b620",
   "metadata": {},
   "outputs": [],
   "source": [
    "corr_series = pd.Series(correlations)"
   ]
  },
  {
   "cell_type": "code",
   "execution_count": null,
   "id": "96c887cb",
   "metadata": {},
   "outputs": [],
   "source": [
    "plt.figure(figsize = (8,8))\n",
    "\n",
    "plt.scatter(pd.Series(range(0,300)), corr_series)\n",
    "plt.xlabel(\"x\", fontsize = 16)\n",
    "plt.ylabel(\"Correlation coefficient between \\n (# of comment in first 3x minutes) and (total number of comments)\", fontsize = 16)\n",
    "\n",
    "plt.show()"
   ]
  },
  {
   "cell_type": "code",
   "execution_count": null,
   "id": "1a02d399",
   "metadata": {},
   "outputs": [],
   "source": []
  }
 ],
 "metadata": {
  "kernelspec": {
   "display_name": "Python 3",
   "language": "python",
   "name": "python3"
  },
  "language_info": {
   "codemirror_mode": {
    "name": "ipython",
    "version": 3
   },
   "file_extension": ".py",
   "mimetype": "text/x-python",
   "name": "python",
   "nbconvert_exporter": "python",
   "pygments_lexer": "ipython3",
   "version": "3.9.5"
  }
 },
 "nbformat": 4,
 "nbformat_minor": 5
}
