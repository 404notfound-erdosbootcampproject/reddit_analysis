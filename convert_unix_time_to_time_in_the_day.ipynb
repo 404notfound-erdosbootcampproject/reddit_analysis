{
 "cells": [
  {
   "cell_type": "code",
   "execution_count": 1,
   "metadata": {},
   "outputs": [],
   "source": [
    "import pandas as pd\n",
    "import praw"
   ]
  },
  {
   "cell_type": "code",
   "execution_count": 2,
   "metadata": {},
   "outputs": [],
   "source": [
    "reddit=praw.Reddit(client_id='', client_secret='', username='', password='',user_agent='')\n",
    "subreddit=reddit.subreddit('wallstreetbets')"
   ]
  },
  {
   "cell_type": "code",
   "execution_count": 5,
   "metadata": {},
   "outputs": [],
   "source": [
    "WSBSubmissions=pd.DataFrame(columns=[\"id\",\"title\",\"body\",\"score\",\"time_created\",\"flair\",\"num_comments\",\"title_length\",\"body_length\",\"num_top_comments\"])"
   ]
  },
  {
   "cell_type": "code",
   "execution_count": 7,
   "metadata": {},
   "outputs": [],
   "source": [
    "for submission in subreddit.top('day'):\n",
    "    include_submission=type(submission.link_flair_text)==type(None) or submission.link_flair_text.lower().find('meme')==-1\n",
    "    if not include_submission:\n",
    "        continue\n",
    "\n",
    "    WSBSubmissions.loc[submission.id,\"id\"]=submission.id\n",
    "    WSBSubmissions.loc[submission.id,\"title\"]=submission.title.lower()\n",
    "    WSBSubmissions.loc[submission.id,\"body\"]=submission.selftext.lower()\n",
    "    WSBSubmissions.loc[submission.id,\"num_top_comments\"]=len(submission.comments)\n",
    "    WSBSubmissions.loc[submission.id,\"num_comments\"]=submission.num_comments \n",
    "    WSBSubmissions.loc[submission.id,\"score\"]=submission.score\n",
    "    WSBSubmissions.loc[submission.id,\"time_created\"]=submission.created_utc\n",
    "    WSBSubmissions.loc[submission.id,\"flair\"]=submission.link_flair_text\n",
    "    WSBSubmissions.loc[submission.id,\"upvote_ratio\"]=submission.upvote_ratio\n",
    "    WSBSubmissions.loc[submission.id,\"body_length\"]=len(submission.selftext)\n",
    "    WSBSubmissions.loc[submission.id,\"title_length\"]=len(submission.title)\n",
    "    \n"
   ]
  },
  {
   "cell_type": "code",
   "execution_count": 12,
   "metadata": {},
   "outputs": [
    {
     "data": {
      "text/html": [
       "<div>\n",
       "<style scoped>\n",
       "    .dataframe tbody tr th:only-of-type {\n",
       "        vertical-align: middle;\n",
       "    }\n",
       "\n",
       "    .dataframe tbody tr th {\n",
       "        vertical-align: top;\n",
       "    }\n",
       "\n",
       "    .dataframe thead th {\n",
       "        text-align: right;\n",
       "    }\n",
       "</style>\n",
       "<table border=\"1\" class=\"dataframe\">\n",
       "  <thead>\n",
       "    <tr style=\"text-align: right;\">\n",
       "      <th></th>\n",
       "      <th>id</th>\n",
       "      <th>title</th>\n",
       "      <th>body</th>\n",
       "      <th>score</th>\n",
       "      <th>time_created</th>\n",
       "      <th>flair</th>\n",
       "      <th>num_comments</th>\n",
       "      <th>title_length</th>\n",
       "      <th>body_length</th>\n",
       "      <th>num_top_comments</th>\n",
       "      <th>upvote_ratio</th>\n",
       "    </tr>\n",
       "  </thead>\n",
       "  <tbody>\n",
       "    <tr>\n",
       "      <th>nmk9dk</th>\n",
       "      <td>nmk9dk</td>\n",
       "      <td>amc’s four-day surge slaps short sellers with ...</td>\n",
       "      <td></td>\n",
       "      <td>36385</td>\n",
       "      <td>1622157219.0</td>\n",
       "      <td>News</td>\n",
       "      <td>2199</td>\n",
       "      <td>63</td>\n",
       "      <td>0</td>\n",
       "      <td>128</td>\n",
       "      <td>0.90</td>\n",
       "    </tr>\n",
       "    <tr>\n",
       "      <th>nmydzw</th>\n",
       "      <td>nmydzw</td>\n",
       "      <td>1 million in bb, let's see what happens</td>\n",
       "      <td></td>\n",
       "      <td>2325</td>\n",
       "      <td>1622210195.0</td>\n",
       "      <td>YOLO</td>\n",
       "      <td>425</td>\n",
       "      <td>39</td>\n",
       "      <td>0</td>\n",
       "      <td>291</td>\n",
       "      <td>0.92</td>\n",
       "    </tr>\n",
       "    <tr>\n",
       "      <th>nmtcr3</th>\n",
       "      <td>nmtcr3</td>\n",
       "      <td>$bb | technical analysis | the bottom has full...</td>\n",
       "      <td>is it time to pick some juicy berries? 🍇\\n\\ni ...</td>\n",
       "      <td>1982</td>\n",
       "      <td>1622191434.0</td>\n",
       "      <td>Technical Analysis</td>\n",
       "      <td>438</td>\n",
       "      <td>109</td>\n",
       "      <td>757</td>\n",
       "      <td>239</td>\n",
       "      <td>0.93</td>\n",
       "    </tr>\n",
       "    <tr>\n",
       "      <th>nmjo2l</th>\n",
       "      <td>nmjo2l</td>\n",
       "      <td>proper 401k weighting for a 26 year old? 99.8%...</td>\n",
       "      <td></td>\n",
       "      <td>1770</td>\n",
       "      <td>1622155372.0</td>\n",
       "      <td>YOLO</td>\n",
       "      <td>274</td>\n",
       "      <td>62</td>\n",
       "      <td>0</td>\n",
       "      <td>83</td>\n",
       "      <td>0.95</td>\n",
       "    </tr>\n",
       "    <tr>\n",
       "      <th>nmwjy3</th>\n",
       "      <td>nmwjy3</td>\n",
       "      <td>palantir awarded $111m contract to provide mis...</td>\n",
       "      <td></td>\n",
       "      <td>1267</td>\n",
       "      <td>1622204139.0</td>\n",
       "      <td>News</td>\n",
       "      <td>179</td>\n",
       "      <td>116</td>\n",
       "      <td>0</td>\n",
       "      <td>65</td>\n",
       "      <td>0.93</td>\n",
       "    </tr>\n",
       "  </tbody>\n",
       "</table>\n",
       "</div>"
      ],
      "text/plain": [
       "            id                                              title  \\\n",
       "nmk9dk  nmk9dk  amc’s four-day surge slaps short sellers with ...   \n",
       "nmydzw  nmydzw            1 million in bb, let's see what happens   \n",
       "nmtcr3  nmtcr3  $bb | technical analysis | the bottom has full...   \n",
       "nmjo2l  nmjo2l  proper 401k weighting for a 26 year old? 99.8%...   \n",
       "nmwjy3  nmwjy3  palantir awarded $111m contract to provide mis...   \n",
       "\n",
       "                                                     body  score  \\\n",
       "nmk9dk                                                     36385   \n",
       "nmydzw                                                      2325   \n",
       "nmtcr3  is it time to pick some juicy berries? 🍇\\n\\ni ...   1982   \n",
       "nmjo2l                                                      1770   \n",
       "nmwjy3                                                      1267   \n",
       "\n",
       "        time_created               flair num_comments title_length  \\\n",
       "nmk9dk  1622157219.0                News         2199           63   \n",
       "nmydzw  1622210195.0                YOLO          425           39   \n",
       "nmtcr3  1622191434.0  Technical Analysis          438          109   \n",
       "nmjo2l  1622155372.0                YOLO          274           62   \n",
       "nmwjy3  1622204139.0                News          179          116   \n",
       "\n",
       "       body_length num_top_comments  upvote_ratio  \n",
       "nmk9dk           0              128          0.90  \n",
       "nmydzw           0              291          0.92  \n",
       "nmtcr3         757              239          0.93  \n",
       "nmjo2l           0               83          0.95  \n",
       "nmwjy3           0               65          0.93  "
      ]
     },
     "execution_count": 12,
     "metadata": {},
     "output_type": "execute_result"
    }
   ],
   "source": [
    "WSBSubmissions.head()"
   ]
  },
  {
   "cell_type": "code",
   "execution_count": 9,
   "metadata": {},
   "outputs": [],
   "source": [
    "WSBSubmissions.to_pickle(\"WSB.pkl\")"
   ]
  },
  {
   "cell_type": "code",
   "execution_count": null,
   "metadata": {},
   "outputs": [],
   "source": []
  }
 ],
 "metadata": {
  "kernelspec": {
   "display_name": "Python 3",
   "language": "python",
   "name": "python3"
  },
  "language_info": {
   "codemirror_mode": {
    "name": "ipython",
    "version": 3
   },
   "file_extension": ".py",
   "mimetype": "text/x-python",
   "name": "python",
   "nbconvert_exporter": "python",
   "pygments_lexer": "ipython3",
   "version": "3.8.5"
  }
 },
 "nbformat": 4,
 "nbformat_minor": 4
}
