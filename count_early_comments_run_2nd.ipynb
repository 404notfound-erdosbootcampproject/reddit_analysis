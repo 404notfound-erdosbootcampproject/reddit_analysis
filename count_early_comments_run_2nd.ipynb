{
 "cells": [
  {
   "cell_type": "markdown",
   "id": "0a46d790",
   "metadata": {},
   "source": [
    "# Counting Comment Frequency"
   ]
  },
  {
   "cell_type": "markdown",
   "id": "4930f45a",
   "metadata": {},
   "source": [
    "In this notebook, we take the subreddit data and count the number of comments in the first 3x minutes, where x is an integer."
   ]
  },
  {
   "cell_type": "code",
   "execution_count": 1,
   "id": "a81d06b0",
   "metadata": {},
   "outputs": [],
   "source": [
    "## import packages\n",
    "\n",
    "import pandas as pd\n",
    "import matplotlib.pyplot as plt"
   ]
  },
  {
   "cell_type": "code",
   "execution_count": 2,
   "id": "c31297ae",
   "metadata": {},
   "outputs": [],
   "source": [
    "## read data\n",
    "\n",
    "## these are the posts\n",
    "top_level = pd.read_pickle(\"WSB_week.pkl\") \n",
    "## these are the comments under the posts\n",
    "comm = pd.read_pickle(\"Commentsdata.pkl\")"
   ]
  },
  {
   "cell_type": "markdown",
   "id": "820e9383",
   "metadata": {},
   "source": [
    "We next match the comments with their parents."
   ]
  },
  {
   "cell_type": "code",
   "execution_count": 3,
   "id": "6c93c3ae",
   "metadata": {},
   "outputs": [],
   "source": [
    "## creates a list parents_list of all the parent posts \n",
    "\n",
    "parents = top_level[\"id\"]\n",
    "parents_list = list(parents)"
   ]
  },
  {
   "cell_type": "code",
   "execution_count": 4,
   "id": "3484b7a3",
   "metadata": {},
   "outputs": [],
   "source": [
    "## format list of posts so that post id matches post ids in comment data\n",
    "\n",
    "for i in range(len(parents_list)):\n",
    "    parents_list[i] = \"t3_\" + parents_list[i]"
   ]
  },
  {
   "cell_type": "code",
   "execution_count": 5,
   "id": "6e88db2e",
   "metadata": {},
   "outputs": [],
   "source": [
    "## creates a list children indexed by the parent posts which assigns to each parent all the comments under it\n",
    "\n",
    "children = {}\n",
    "for parent in parents_list:\n",
    "    child = comm[comm.parent_id == parent]\n",
    "    children[parent] = child"
   ]
  },
  {
   "cell_type": "markdown",
   "id": "26b5657b",
   "metadata": {},
   "source": [
    "Now we count the frequency of the comments."
   ]
  },
  {
   "cell_type": "code",
   "execution_count": 6,
   "id": "0ee8652a",
   "metadata": {},
   "outputs": [],
   "source": [
    "## comments in first hour\n",
    "comms_in_first_hour = {}\n",
    "for parent in parents_list:\n",
    "    times = list(children[parent][\"time_created\"])\n",
    "    times.sort()\n",
    "    start = int(top_level[top_level.id == parent[3:]][\"time_created\"])\n",
    "    count = 0\n",
    "    for t in times:\n",
    "        if t - start <= 3600:\n",
    "            count += 1\n",
    "    comms_in_first_hour[parent[3:]] = count"
   ]
  },
  {
   "cell_type": "code",
   "execution_count": 7,
   "id": "69ae49af",
   "metadata": {},
   "outputs": [],
   "source": [
    "name = 'first_hour_comments'\n",
    "top_level[name] = pd.Series(comms_in_first_hour)"
   ]
  },
  {
   "cell_type": "code",
   "execution_count": 8,
   "id": "59d44a0e",
   "metadata": {},
   "outputs": [],
   "source": [
    "## first half hour     \n",
    "children = {}\n",
    "for parent in parents_list:\n",
    "    child = comm[comm.parent_id == parent]\n",
    "    children[parent] = child\n",
    "    \n",
    "comms_in_first_30 = {}\n",
    "for parent in parents_list:\n",
    "    times = list(children[parent][\"time_created\"])\n",
    "    times.sort()\n",
    "    start = int(top_level[top_level.id == parent[3:]][\"time_created\"])\n",
    "    count = 0\n",
    "    for t in times:\n",
    "        if t - start <= 1800:\n",
    "            count += 1\n",
    "    comms_in_first_30[parent[3:]] = count"
   ]
  },
  {
   "cell_type": "code",
   "execution_count": 9,
   "id": "7ee94bae",
   "metadata": {},
   "outputs": [],
   "source": [
    "name = 'first_30_comments'\n",
    "top_level[name] = pd.Series(comms_in_first_30)"
   ]
  },
  {
   "cell_type": "code",
   "execution_count": 10,
   "id": "5302d026",
   "metadata": {},
   "outputs": [],
   "source": [
    "## first two hours  \n",
    "children = {}\n",
    "for parent in parents_list:\n",
    "    child = comm[comm.parent_id == parent]\n",
    "    children[parent] = child\n",
    "    \n",
    "comms_in_first_120 = {}\n",
    "for parent in parents_list:\n",
    "    times = list(children[parent][\"time_created\"])\n",
    "    times.sort()\n",
    "    start = int(top_level[top_level.id == parent[3:]][\"time_created\"])\n",
    "    count = 0\n",
    "    for t in times:\n",
    "        if t - start <= 7200:\n",
    "            count += 1\n",
    "    comms_in_first_120[parent[3:]] = count"
   ]
  },
  {
   "cell_type": "code",
   "execution_count": 11,
   "id": "15a3a4c5",
   "metadata": {},
   "outputs": [],
   "source": [
    "name = 'first_120_comments'\n",
    "top_level[name] = pd.Series(comms_in_first_120)"
   ]
  },
  {
   "cell_type": "code",
   "execution_count": 12,
   "id": "d720b71e",
   "metadata": {},
   "outputs": [],
   "source": [
    "## first 90 mins \n",
    "children = {}\n",
    "for parent in parents_list:\n",
    "    child = comm[comm.parent_id == parent]\n",
    "    children[parent] = child\n",
    "    \n",
    "comms_in_first_90 = {}\n",
    "for parent in parents_list:\n",
    "    times = list(children[parent][\"time_created\"])\n",
    "    times.sort()\n",
    "    start = int(top_level[top_level.id == parent[3:]][\"time_created\"])\n",
    "    count = 0\n",
    "    for t in times:\n",
    "        if t - start <= 5400:\n",
    "            count += 1\n",
    "    comms_in_first_90[parent[3:]] = count"
   ]
  },
  {
   "cell_type": "code",
   "execution_count": 13,
   "id": "0ef8ad4d",
   "metadata": {},
   "outputs": [],
   "source": [
    "name = 'first_90_comments'\n",
    "top_level[name] = pd.Series(comms_in_first_90)\n",
    "top_level.to_pickle(\"WSB_week.pkl\")"
   ]
  },
  {
   "cell_type": "code",
   "execution_count": null,
   "id": "1a02d399",
   "metadata": {},
   "outputs": [],
   "source": []
  }
 ],
 "metadata": {
  "kernelspec": {
   "display_name": "Python 3",
   "language": "python",
   "name": "python3"
  },
  "language_info": {
   "codemirror_mode": {
    "name": "ipython",
    "version": 3
   },
   "file_extension": ".py",
   "mimetype": "text/x-python",
   "name": "python",
   "nbconvert_exporter": "python",
   "pygments_lexer": "ipython3",
   "version": "3.9.5"
  }
 },
 "nbformat": 4,
 "nbformat_minor": 5
}
